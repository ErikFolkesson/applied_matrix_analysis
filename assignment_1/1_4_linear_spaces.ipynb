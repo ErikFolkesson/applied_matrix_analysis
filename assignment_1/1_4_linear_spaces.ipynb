{
 "cells": [
  {
   "cell_type": "code",
   "metadata": {
    "ExecuteTime": {
     "end_time": "2024-12-03T09:15:30.100327Z",
     "start_time": "2024-12-03T09:15:30.095197Z"
    }
   },
   "source": [
    "import numpy as np"
   ],
   "outputs": [],
   "execution_count": 20
  },
  {
   "cell_type": "code",
   "metadata": {
    "ExecuteTime": {
     "end_time": "2024-12-03T09:15:30.163648Z",
     "start_time": "2024-12-03T09:15:30.157422Z"
    }
   },
   "source": [
    "# Define the set of vectors S\n",
    "s1 = np.array([1, 0, 1, 1])\n",
    "s2 = np.array([1, 0, 1, 0])\n",
    "s3 = np.array([0, 1, 1, 1])"
   ],
   "outputs": [],
   "execution_count": 21
  },
  {
   "cell_type": "code",
   "metadata": {
    "ExecuteTime": {
     "end_time": "2024-12-03T09:15:30.214049Z",
     "start_time": "2024-12-03T09:15:30.206957Z"
    }
   },
   "source": [
    "# Step 1: Obtain the orthonormal vector u1\n",
    "u1 = s1 / np.linalg.norm(s1)\n",
    "print(f\"u1: {u1}\")"
   ],
   "outputs": [
    {
     "name": "stdout",
     "output_type": "stream",
     "text": [
      "u1: [0.57735027 0.         0.57735027 0.57735027]\n"
     ]
    }
   ],
   "execution_count": 22
  },
  {
   "cell_type": "code",
   "metadata": {
    "ExecuteTime": {
     "end_time": "2024-12-03T09:15:30.400232Z",
     "start_time": "2024-12-03T09:15:30.392396Z"
    }
   },
   "source": [
    "# Step 2: Find a vector u2 that is orthogonal to u1\n",
    "proj_s2_u1 = np.dot(s2, u1) / (np.linalg.norm(u1)**2) * u1\n",
    "u2 = s2 - proj_s2_u1\n",
    "print(f\"u2: {u2}\")"
   ],
   "outputs": [
    {
     "name": "stdout",
     "output_type": "stream",
     "text": [
      "u2: [ 0.33333333  0.          0.33333333 -0.66666667]\n"
     ]
    }
   ],
   "execution_count": 23
  },
  {
   "cell_type": "code",
   "metadata": {
    "ExecuteTime": {
     "end_time": "2024-12-03T09:15:30.515664Z",
     "start_time": "2024-12-03T09:15:30.506425Z"
    }
   },
   "source": [
    "# Step 2: Find a vector u2 that is orthogonal to u1\n",
    "proj_s3_u1 = np.dot(s3, u1) / (np.linalg.norm(u1)**2) * u1\n",
    "proj_s3_u2 = np.dot(s3, u2) / (np.linalg.norm(u2)**2) * u2\n",
    "u3 = s3 - proj_s3_u1 - proj_s3_u2\n",
    "u3[3] = 0\n",
    "print(f\"u3: {u3}\")"
   ],
   "outputs": [
    {
     "name": "stdout",
     "output_type": "stream",
     "text": [
      "u3: [-0.5  1.   0.5  0. ]\n"
     ]
    }
   ],
   "execution_count": 24
  },
  {
   "metadata": {
    "ExecuteTime": {
     "end_time": "2024-12-03T09:15:30.669352Z",
     "start_time": "2024-12-03T09:15:30.660959Z"
    }
   },
   "cell_type": "code",
   "source": [
    "# Step 3:   Normalize the vectors\n",
    "u2 = u2 / np.linalg.norm(u2)\n",
    "u3 = u3 / np.linalg.norm(u3)\n",
    "print(f\"u1: {u1}\")\n",
    "print(f\"u2: {u2}\")\n",
    "print(f\"u3: {u3}\")"
   ],
   "outputs": [
    {
     "name": "stdout",
     "output_type": "stream",
     "text": [
      "u1: [0.57735027 0.         0.57735027 0.57735027]\n",
      "u2: [ 0.40824829  0.          0.40824829 -0.81649658]\n",
      "u3: [-0.40824829  0.81649658  0.40824829  0.        ]\n"
     ]
    }
   ],
   "execution_count": 25
  },
  {
   "metadata": {
    "ExecuteTime": {
     "end_time": "2024-12-03T09:25:55.407226Z",
     "start_time": "2024-12-03T09:25:55.400335Z"
    }
   },
   "cell_type": "code",
   "source": [
    "v = np.array([[-1, 2, -1 , 2]])\n",
    "v"
   ],
   "outputs": [
    {
     "data": {
      "text/plain": [
       "array([[-1,  2, -1,  2]])"
      ]
     },
     "execution_count": 35,
     "metadata": {},
     "output_type": "execute_result"
    }
   ],
   "execution_count": 35
  },
  {
   "metadata": {
    "ExecuteTime": {
     "end_time": "2024-12-03T09:25:56.349508Z",
     "start_time": "2024-12-03T09:25:56.339892Z"
    }
   },
   "cell_type": "code",
   "source": [
    "v_U = (np.dot(v, u1))*u1 + (np.dot(v, u2))*u2 + (np.dot(v, u3))*u3\n",
    "v_U"
   ],
   "outputs": [
    {
     "data": {
      "text/plain": [
       "array([-1.66666667,  1.33333333, -0.33333333,  2.        ])"
      ]
     },
     "execution_count": 36,
     "metadata": {},
     "output_type": "execute_result"
    }
   ],
   "execution_count": 36
  },
  {
   "metadata": {},
   "cell_type": "code",
   "outputs": [],
   "execution_count": null,
   "source": ""
  }
 ],
 "metadata": {
  "kernelspec": {
   "display_name": "nn_python_env",
   "language": "python",
   "name": "python3"
  },
  "language_info": {
   "codemirror_mode": {
    "name": "ipython",
    "version": 3
   },
   "file_extension": ".py",
   "mimetype": "text/x-python",
   "name": "python",
   "nbconvert_exporter": "python",
   "pygments_lexer": "ipython3",
   "version": "3.12.2"
  }
 },
 "nbformat": 4,
 "nbformat_minor": 2
}
