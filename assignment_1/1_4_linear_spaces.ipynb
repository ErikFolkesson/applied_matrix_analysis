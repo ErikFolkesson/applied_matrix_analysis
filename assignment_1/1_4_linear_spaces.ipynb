{
 "cells": [
  {
   "cell_type": "code",
   "execution_count": 3,
   "metadata": {},
   "outputs": [],
   "source": [
    "import numpy as np"
   ]
  },
  {
   "cell_type": "code",
   "execution_count": 4,
   "metadata": {},
   "outputs": [],
   "source": [
    "# Define the set of vectors S\n",
    "s1 = np.array([1, 0, 1, 1])\n",
    "s2 = np.array([1, 0, 1, 0])\n",
    "s3 = np.array([0, 1, 1, 1])"
   ]
  },
  {
   "cell_type": "code",
   "execution_count": 8,
   "metadata": {},
   "outputs": [
    {
     "name": "stdout",
     "output_type": "stream",
     "text": [
      "u1: [0.57735027 0.         0.57735027 0.57735027]\n"
     ]
    }
   ],
   "source": [
    "# Step 1: Obtain the orthonormal vector u1\n",
    "u1 = s1 / np.linalg.norm(s1)\n",
    "print(f\"u1: {u1}\")"
   ]
  },
  {
   "cell_type": "code",
   "execution_count": 9,
   "metadata": {},
   "outputs": [
    {
     "name": "stdout",
     "output_type": "stream",
     "text": [
      "u2: [ 0.33333333  0.          0.33333333 -0.66666667]\n"
     ]
    }
   ],
   "source": [
    "# Step 2: Find a vector u2 that is orthogonal to u1\n",
    "proj_s2_u1 = np.dot(s2, u1) / (np.linalg.norm(u1)**2) * u1\n",
    "u2 = s2 - proj_s2_u1\n",
    "print(f\"u2: {u2}\")"
   ]
  },
  {
   "cell_type": "code",
   "execution_count": 16,
   "metadata": {},
   "outputs": [
    {
     "name": "stdout",
     "output_type": "stream",
     "text": [
      "u3: [-0.5  1.   0.5  0. ]\n"
     ]
    }
   ],
   "source": [
    "# Step 2: Find a vector u2 that is orthogonal to u1\n",
    "proj_s3_u1 = np.dot(s3, u1) / (np.linalg.norm(u1)**2) * u1\n",
    "proj_s3_u2 = np.dot(s3, u2) / (np.linalg.norm(u2)**2) * u2\n",
    "u3 = s3 - proj_s3_u1 - proj_s3_u2\n",
    "u3[3] = 0\n",
    "print(f\"u3: {u3}\")"
   ]
  }
 ],
 "metadata": {
  "kernelspec": {
   "display_name": "nn_python_env",
   "language": "python",
   "name": "python3"
  },
  "language_info": {
   "codemirror_mode": {
    "name": "ipython",
    "version": 3
   },
   "file_extension": ".py",
   "mimetype": "text/x-python",
   "name": "python",
   "nbconvert_exporter": "python",
   "pygments_lexer": "ipython3",
   "version": "3.12.2"
  }
 },
 "nbformat": 4,
 "nbformat_minor": 2
}
