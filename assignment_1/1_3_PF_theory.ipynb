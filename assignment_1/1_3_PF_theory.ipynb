{
 "cells": [
  {
   "cell_type": "code",
   "execution_count": 1,
   "metadata": {},
   "outputs": [],
   "source": [
    "import numpy as np"
   ]
  },
  {
   "cell_type": "code",
   "execution_count": 2,
   "metadata": {},
   "outputs": [
    {
     "data": {
      "text/plain": [
       "array([[0. , 0.5, 0. , 0.5],\n",
       "       [0. , 0.4, 0.6, 0. ],\n",
       "       [0. , 0. , 0.4, 0.6],\n",
       "       [0.4, 0. , 0. , 0.6]])"
      ]
     },
     "execution_count": 2,
     "metadata": {},
     "output_type": "execute_result"
    }
   ],
   "source": [
    "M = np.array([[0, 1/2, 0, 1/2],\n",
    "              [0, 0.4, 0.6, 0],\n",
    "              [0, 0, 0.4, 0.6],\n",
    "              [0.4, 0, 0, 0.6]])\n",
    "M"
   ]
  },
  {
   "cell_type": "code",
   "execution_count": 3,
   "metadata": {},
   "outputs": [],
   "source": [
    "I = np.eye(M.shape[0])"
   ]
  },
  {
   "cell_type": "code",
   "execution_count": 4,
   "metadata": {},
   "outputs": [
    {
     "data": {
      "text/plain": [
       "array([[21.476288 , 22.900288 , 26.428032 , 57.195392 ],\n",
       "       [18.3497472, 17.0806784, 33.3313152, 59.2382592],\n",
       "       [27.259008 , 15.291456 , 17.0806784, 68.3688576],\n",
       "       [27.4065664, 22.71584  , 15.291456 , 62.5861376]])"
      ]
     },
     "execution_count": 4,
     "metadata": {},
     "output_type": "execute_result"
    }
   ],
   "source": [
    "result = np.linalg.matrix_power(M + I, 7)\n",
    "result"
   ]
  },
  {
   "cell_type": "code",
   "execution_count": 5,
   "metadata": {},
   "outputs": [
    {
     "name": "stdout",
     "output_type": "stream",
     "text": [
      "Eigenvalues: [ 1.28000000e+02 +0.j         -4.91335326e+00+11.23960328j\n",
      " -4.91335326e+00-11.23960328j  5.04889208e-02 +0.j        ]\n"
     ]
    }
   ],
   "source": [
    "# 1. Eigenvalues\n",
    "eigenvalues = np.linalg.eigvals(result)\n",
    "print(\"Eigenvalues:\", eigenvalues) "
   ]
  },
  {
   "cell_type": "code",
   "execution_count": 7,
   "metadata": {},
   "outputs": [
    {
     "name": "stdout",
     "output_type": "stream",
     "text": [
      "Eigenvalues: [-0.34725689+0.j          1.        +0.j          0.37362844+0.39986484j\n",
      "  0.37362844-0.39986484j]\n"
     ]
    }
   ],
   "source": [
    "M_eigenvalues = np.linalg.eigvals(M)\n",
    "print(\"Eigenvalues:\", M_eigenvalues) "
   ]
  },
  {
   "cell_type": "code",
   "execution_count": null,
   "metadata": {},
   "outputs": [],
   "source": []
  }
 ],
 "metadata": {
  "kernelspec": {
   "display_name": "nn_python_env",
   "language": "python",
   "name": "python3"
  },
  "language_info": {
   "codemirror_mode": {
    "name": "ipython",
    "version": 3
   },
   "file_extension": ".py",
   "mimetype": "text/x-python",
   "name": "python",
   "nbconvert_exporter": "python",
   "pygments_lexer": "ipython3",
   "version": "3.12.2"
  }
 },
 "nbformat": 4,
 "nbformat_minor": 2
}
