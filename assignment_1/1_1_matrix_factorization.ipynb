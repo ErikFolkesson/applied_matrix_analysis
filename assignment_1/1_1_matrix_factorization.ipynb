{
 "cells": [
  {
   "cell_type": "code",
   "metadata": {
    "ExecuteTime": {
     "end_time": "2024-12-04T16:24:12.493897Z",
     "start_time": "2024-12-04T16:24:12.345716Z"
    }
   },
   "source": [
    "import numpy as np"
   ],
   "outputs": [],
   "execution_count": 2
  },
  {
   "cell_type": "code",
   "metadata": {
    "ExecuteTime": {
     "end_time": "2024-12-04T16:24:12.522746Z",
     "start_time": "2024-12-04T16:24:12.508437Z"
    }
   },
   "source": [
    "A = np.array([[4, -1, -2],\n",
    "              [-1, 4, -2],\n",
    "              [-2, -2, 5]])\n",
    "A"
   ],
   "outputs": [
    {
     "data": {
      "text/plain": [
       "array([[ 4, -1, -2],\n",
       "       [-1,  4, -2],\n",
       "       [-2, -2,  5]])"
      ]
     },
     "execution_count": 3,
     "metadata": {},
     "output_type": "execute_result"
    }
   ],
   "execution_count": 3
  },
  {
   "cell_type": "code",
   "metadata": {
    "ExecuteTime": {
     "end_time": "2024-12-04T16:24:13.652991Z",
     "start_time": "2024-12-04T16:24:13.630798Z"
    }
   },
   "source": [
    "G = np.linalg.cholesky(A)\n",
    "G"
   ],
   "outputs": [
    {
     "data": {
      "text/plain": [
       "array([[ 2.        ,  0.        ,  0.        ],\n",
       "       [-0.5       ,  1.93649167,  0.        ],\n",
       "       [-1.        , -1.29099445,  1.52752523]])"
      ]
     },
     "execution_count": 4,
     "metadata": {},
     "output_type": "execute_result"
    }
   ],
   "execution_count": 4
  },
  {
   "cell_type": "code",
   "metadata": {
    "ExecuteTime": {
     "end_time": "2024-12-04T16:24:14.133669Z",
     "start_time": "2024-12-04T16:24:14.125651Z"
    }
   },
   "source": [
    "y = np.array([[1],\n",
    "              [-3],\n",
    "              [2]])\n",
    "y"
   ],
   "outputs": [
    {
     "data": {
      "text/plain": [
       "array([[ 1],\n",
       "       [-3],\n",
       "       [ 2]])"
      ]
     },
     "execution_count": 5,
     "metadata": {},
     "output_type": "execute_result"
    }
   ],
   "execution_count": 5
  },
  {
   "cell_type": "code",
   "metadata": {
    "ExecuteTime": {
     "end_time": "2024-12-04T16:24:14.424260Z",
     "start_time": "2024-12-04T16:24:14.412152Z"
    }
   },
   "source": [
    "z = np.linalg.solve(G, y)\n",
    "z"
   ],
   "outputs": [
    {
     "data": {
      "text/plain": [
       "array([[ 0.5       ],\n",
       "       [-1.42009389],\n",
       "       [ 0.43643578]])"
      ]
     },
     "execution_count": 6,
     "metadata": {},
     "output_type": "execute_result"
    }
   ],
   "execution_count": 6
  },
  {
   "cell_type": "code",
   "metadata": {
    "ExecuteTime": {
     "end_time": "2024-12-04T16:24:14.811292Z",
     "start_time": "2024-12-04T16:24:14.802895Z"
    }
   },
   "source": [
    "x = np.linalg.solve(G.T, z)\n",
    "x"
   ],
   "outputs": [
    {
     "data": {
      "text/plain": [
       "array([[ 0.25714286],\n",
       "       [-0.54285714],\n",
       "       [ 0.28571429]])"
      ]
     },
     "execution_count": 7,
     "metadata": {},
     "output_type": "execute_result"
    }
   ],
   "execution_count": 7
  },
  {
   "cell_type": "code",
   "metadata": {
    "ExecuteTime": {
     "end_time": "2024-12-04T16:24:28.275310Z",
     "start_time": "2024-12-04T16:24:28.268222Z"
    }
   },
   "source": [
    "print(np.matmul(A,x))\n",
    "print(y)"
   ],
   "outputs": [
    {
     "name": "stdout",
     "output_type": "stream",
     "text": [
      "[[ 1.]\n",
      " [-3.]\n",
      " [ 2.]]\n",
      "[[ 1]\n",
      " [-3]\n",
      " [ 2]]\n"
     ]
    }
   ],
   "execution_count": 9
  },
  {
   "cell_type": "code",
   "metadata": {
    "ExecuteTime": {
     "end_time": "2024-12-04T16:24:15.439668Z",
     "start_time": "2024-12-04T16:24:15.436384Z"
    }
   },
   "source": [],
   "outputs": [],
   "execution_count": null
  }
 ],
 "metadata": {
  "kernelspec": {
   "display_name": "nn_python_env",
   "language": "python",
   "name": "python3"
  },
  "language_info": {
   "codemirror_mode": {
    "name": "ipython",
    "version": 3
   },
   "file_extension": ".py",
   "mimetype": "text/x-python",
   "name": "python",
   "nbconvert_exporter": "python",
   "pygments_lexer": "ipython3",
   "version": "3.12.2"
  }
 },
 "nbformat": 4,
 "nbformat_minor": 2
}
