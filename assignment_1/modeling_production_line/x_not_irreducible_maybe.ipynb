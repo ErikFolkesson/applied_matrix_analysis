{
 "cells": [
  {
   "cell_type": "code",
   "id": "initial_id",
   "metadata": {
    "collapsed": true
   },
   "source": "import numpy as np",
   "outputs": [],
   "execution_count": 1
  },
  {
   "metadata": {
    "ExecuteTime": {
     "end_time": "2024-12-05T08:37:18.109797Z",
     "start_time": "2024-12-05T08:37:18.101825Z"
    }
   },
   "cell_type": "code",
   "source": [
    "A = np.array([[0, 0, 1, 0, 0, 0, 0, 0],\n",
    "              [0, 0, 0, 1, 0, 0, 0, 0],\n",
    "              [0, 0.7, 0, 0, 0.3, 0, 0, 0],\n",
    "              [0, 0, 0, 0, 0, 0.3, 0, 0.7],\n",
    "              [0, 0, 0.5, 0, 0, 0, 0.5, 0],\n",
    "              [0, 0, 0, 0.8, 0, 0, 0.2, 0],\n",
    "              [0, 0, 0, 0, 0, 0, 1, 0],\n",
    "              [0, 0, 0, 0, 0, 0, 0, 1]])\n",
    "\n",
    "print(A)"
   ],
   "id": "a6d8f08e1b799ccf",
   "outputs": [
    {
     "name": "stdout",
     "output_type": "stream",
     "text": [
      "[[0.  0.  1.  0.  0.  0.  0.  0. ]\n",
      " [0.  0.  0.  1.  0.  0.  0.  0. ]\n",
      " [0.  0.7 0.  0.  0.3 0.  0.  0. ]\n",
      " [0.  0.  0.  0.  0.  0.3 0.  0.7]\n",
      " [0.  0.  0.5 0.  0.  0.  0.5 0. ]\n",
      " [0.  0.  0.  0.8 0.  0.  0.2 0. ]\n",
      " [0.  0.  0.  0.  0.  0.  1.  0. ]\n",
      " [0.  0.  0.  0.  0.  0.  0.  1. ]]\n"
     ]
    }
   ],
   "execution_count": 13
  },
  {
   "metadata": {
    "ExecuteTime": {
     "end_time": "2024-12-05T08:41:07.433200Z",
     "start_time": "2024-12-05T08:41:07.426838Z"
    }
   },
   "cell_type": "code",
   "source": [
    "P_1 = np.array([[0, 0, 0, 0, 0, 1, 0, 0],\n",
    "                [0, 0, 0, 0, 1, 0, 0, 0],\n",
    "                [0, 0, 1, 0, 0, 0, 0, 0],\n",
    "                [0, 0, 0, 1, 0, 0, 0, 0],\n",
    "                [0, 1, 0, 0, 0, 0, 0, 0],\n",
    "                [1, 0, 0, 0, 0, 0, 0, 0], \n",
    "                [0, 0, 0, 0, 0, 0, 1, 0], \n",
    "                [0, 0, 0, 0, 0, 0, 0, 1]])\n",
    "\n",
    "print(P_1)"
   ],
   "id": "8e0ed5e13cfbde59",
   "outputs": [
    {
     "name": "stdout",
     "output_type": "stream",
     "text": [
      "[[0 0 0 0 0 1 0 0]\n",
      " [0 0 0 0 1 0 0 0]\n",
      " [0 0 1 0 0 0 0 0]\n",
      " [0 0 0 1 0 0 0 0]\n",
      " [0 1 0 0 0 0 0 0]\n",
      " [1 0 0 0 0 0 0 0]\n",
      " [0 0 0 0 0 0 1 0]\n",
      " [0 0 0 0 0 0 0 1]]\n"
     ]
    }
   ],
   "execution_count": 17
  },
  {
   "metadata": {
    "ExecuteTime": {
     "end_time": "2024-12-05T08:41:09.119078Z",
     "start_time": "2024-12-05T08:41:09.113172Z"
    }
   },
   "cell_type": "code",
   "source": [
    "P_1A = np.matmul(P_1, A)\n",
    "P_1AP_1T = np.matmul(P_1A,P_1.T)\n",
    "\n",
    "print(P_1AP_1T)"
   ],
   "id": "3e0a7b631bee8f84",
   "outputs": [
    {
     "name": "stdout",
     "output_type": "stream",
     "text": [
      "[[0.  0.  0.  0.8 0.  0.  0.2 0. ]\n",
      " [0.  0.  0.5 0.  0.  0.  0.5 0. ]\n",
      " [0.  0.3 0.  0.  0.7 0.  0.  0. ]\n",
      " [0.3 0.  0.  0.  0.  0.  0.  0.7]\n",
      " [0.  0.  0.  1.  0.  0.  0.  0. ]\n",
      " [0.  0.  1.  0.  0.  0.  0.  0. ]\n",
      " [0.  0.  0.  0.  0.  0.  1.  0. ]\n",
      " [0.  0.  0.  0.  0.  0.  0.  1. ]]\n"
     ]
    }
   ],
   "execution_count": 18
  },
  {
   "metadata": {
    "ExecuteTime": {
     "end_time": "2024-12-05T08:41:53.350788Z",
     "start_time": "2024-12-05T08:41:53.344495Z"
    }
   },
   "cell_type": "code",
   "source": [
    "P_2 = np.array([[1, 0, 0, 0, 0, 0, 0, 0],\n",
    "                [0, 1, 0, 0, 0, 0, 0, 0],\n",
    "                [0, 0, 0, 0, 1, 0, 0, 0],\n",
    "                [0, 0, 0, 0, 0, 1, 0, 0],\n",
    "                [0, 0, 1, 0, 0, 0, 0, 0],\n",
    "                [0, 0, 0, 1, 0, 0, 0, 0], \n",
    "                [0, 0, 0, 0, 0, 0, 1, 0], \n",
    "                [0, 0, 0, 0, 0, 0, 0, 1]])\n",
    "\n",
    "print(P_2)"
   ],
   "id": "833230114dabd468",
   "outputs": [
    {
     "name": "stdout",
     "output_type": "stream",
     "text": [
      "[[1 0 0 0 0 0 0 0]\n",
      " [0 1 0 0 0 0 0 0]\n",
      " [0 0 0 0 1 0 0 0]\n",
      " [0 0 0 0 0 1 0 0]\n",
      " [0 0 1 0 0 0 0 0]\n",
      " [0 0 0 1 0 0 0 0]\n",
      " [0 0 0 0 0 0 1 0]\n",
      " [0 0 0 0 0 0 0 1]]\n"
     ]
    }
   ],
   "execution_count": 19
  },
  {
   "metadata": {
    "ExecuteTime": {
     "end_time": "2024-12-05T08:42:20.530005Z",
     "start_time": "2024-12-05T08:42:20.520337Z"
    }
   },
   "cell_type": "code",
   "source": [
    "P_2A = np.matmul(P_2, P_1AP_1T)\n",
    "P_2AP_2T = np.matmul(P_2A,P_2.T)\n",
    "\n",
    "print(P_2AP_2T)"
   ],
   "id": "36760ce643712301",
   "outputs": [
    {
     "name": "stdout",
     "output_type": "stream",
     "text": [
      "[[0.  0.  0.  0.  0.  0.8 0.2 0. ]\n",
      " [0.  0.  0.  0.  0.5 0.  0.5 0. ]\n",
      " [0.  0.  0.  0.  0.  1.  0.  0. ]\n",
      " [0.  0.  0.  0.  1.  0.  0.  0. ]\n",
      " [0.  0.3 0.7 0.  0.  0.  0.  0. ]\n",
      " [0.3 0.  0.  0.  0.  0.  0.  0.7]\n",
      " [0.  0.  0.  0.  0.  0.  1.  0. ]\n",
      " [0.  0.  0.  0.  0.  0.  0.  1. ]]\n"
     ]
    }
   ],
   "execution_count": 20
  },
  {
   "metadata": {
    "ExecuteTime": {
     "end_time": "2024-12-05T08:45:36.648452Z",
     "start_time": "2024-12-05T08:45:36.639596Z"
    }
   },
   "cell_type": "code",
   "source": [
    "P_3 = np.array([[1, 0, 0, 0, 0, 0, 0, 0],\n",
    "                [0, 1, 0, 0, 0, 0, 0, 0],\n",
    "                [0, 0, 0, 0, 0, 1, 0, 0],\n",
    "                [0, 0, 0, 0, 1, 0, 0, 0],\n",
    "                [0, 0, 0, 1, 0, 0, 0, 0],\n",
    "                [0, 0, 1, 0, 0, 0, 0, 0],\n",
    "                [0, 0, 0, 0, 0, 0, 1, 0],\n",
    "                [0, 0, 0, 0, 0, 0, 0, 1]])\n",
    "\n",
    "print(P_3)"
   ],
   "id": "ccc2aa3690b1d58a",
   "outputs": [
    {
     "name": "stdout",
     "output_type": "stream",
     "text": [
      "[[1 0 0 0 0 0 0 0]\n",
      " [0 1 0 0 0 0 0 0]\n",
      " [0 0 0 0 0 1 0 0]\n",
      " [0 0 0 0 1 0 0 0]\n",
      " [0 0 0 1 0 0 0 0]\n",
      " [0 0 1 0 0 0 0 0]\n",
      " [0 0 0 0 0 0 1 0]\n",
      " [0 0 0 0 0 0 0 1]]\n"
     ]
    }
   ],
   "execution_count": 23
  },
  {
   "metadata": {
    "ExecuteTime": {
     "end_time": "2024-12-05T08:45:37.524591Z",
     "start_time": "2024-12-05T08:45:37.517611Z"
    }
   },
   "cell_type": "code",
   "source": [
    "P_3A = np.matmul(P_3, P_2AP_2T)\n",
    "P_3AP_3T = np.matmul(P_3A,P_3.T)\n",
    "\n",
    "print(P_3AP_3T)"
   ],
   "id": "e9e7f93e42be8d0d",
   "outputs": [
    {
     "name": "stdout",
     "output_type": "stream",
     "text": [
      "[[0.  0.  0.8 0.  0.  0.  0.2 0. ]\n",
      " [0.  0.  0.  0.5 0.  0.  0.5 0. ]\n",
      " [0.3 0.  0.  0.  0.  0.  0.  0.7]\n",
      " [0.  0.3 0.  0.  0.  0.7 0.  0. ]\n",
      " [0.  0.  0.  1.  0.  0.  0.  0. ]\n",
      " [0.  0.  1.  0.  0.  0.  0.  0. ]\n",
      " [0.  0.  0.  0.  0.  0.  1.  0. ]\n",
      " [0.  0.  0.  0.  0.  0.  0.  1. ]]\n"
     ]
    }
   ],
   "execution_count": 24
  },
  {
   "metadata": {},
   "cell_type": "code",
   "outputs": [],
   "execution_count": null,
   "source": "",
   "id": "e8a71da93f7d0035"
  }
 ],
 "metadata": {
  "kernelspec": {
   "display_name": "Python 3",
   "language": "python",
   "name": "python3"
  },
  "language_info": {
   "codemirror_mode": {
    "name": "ipython",
    "version": 2
   },
   "file_extension": ".py",
   "mimetype": "text/x-python",
   "name": "python",
   "nbconvert_exporter": "python",
   "pygments_lexer": "ipython2",
   "version": "2.7.6"
  }
 },
 "nbformat": 4,
 "nbformat_minor": 5
}
