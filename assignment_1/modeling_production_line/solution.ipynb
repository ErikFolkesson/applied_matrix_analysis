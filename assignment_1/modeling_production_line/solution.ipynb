{
 "cells": [
  {
   "cell_type": "code",
   "id": "initial_id",
   "metadata": {
    "collapsed": true,
    "ExecuteTime": {
     "end_time": "2024-12-04T08:15:48.813176Z",
     "start_time": "2024-12-04T08:15:48.809153Z"
    }
   },
   "source": "import numpy as np",
   "outputs": [],
   "execution_count": 2
  },
  {
   "metadata": {
    "ExecuteTime": {
     "end_time": "2024-12-04T08:15:48.829879Z",
     "start_time": "2024-12-04T08:15:48.821734Z"
    }
   },
   "cell_type": "code",
   "source": [
    "P = np.array([[0, 0, 1, 0, 0, 0, 0, 0],\n",
    "              [0, 0, 0, 1, 0, 0, 0, 0],\n",
    "              [0, 0.7, 0, 0, 0.3, 0, 0, 0],\n",
    "              [0, 0, 0, 0, 0, 0.3, 0, 0.7],\n",
    "              [0, 0, 0.5, 0, 0, 0, 0.5, 0],\n",
    "              [0, 0, 0, 0.8, 0, 0, 0.2, 0],\n",
    "              [0, 0, 0, 0, 0, 0, 1, 0],\n",
    "              [0, 0, 0, 0, 0, 0, 0, 1]])"
   ],
   "id": "6220306c3a114dca",
   "outputs": [],
   "execution_count": 3
  },
  {
   "metadata": {
    "ExecuteTime": {
     "end_time": "2024-12-04T08:15:48.858577Z",
     "start_time": "2024-12-04T08:15:48.849768Z"
    }
   },
   "cell_type": "code",
   "source": "print(P)",
   "id": "ba451621fbc58a76",
   "outputs": [
    {
     "name": "stdout",
     "output_type": "stream",
     "text": [
      "[[0.  0.  1.  0.  0.  0.  0.  0. ]\n",
      " [0.  0.  0.  1.  0.  0.  0.  0. ]\n",
      " [0.  0.7 0.  0.  0.3 0.  0.  0. ]\n",
      " [0.  0.  0.  0.  0.  0.3 0.  0.7]\n",
      " [0.  0.  0.5 0.  0.  0.  0.5 0. ]\n",
      " [0.  0.  0.  0.8 0.  0.  0.2 0. ]\n",
      " [0.  0.  0.  0.  0.  0.  1.  0. ]\n",
      " [0.  0.  0.  0.  0.  0.  0.  1. ]]\n"
     ]
    }
   ],
   "execution_count": 4
  },
  {
   "metadata": {
    "ExecuteTime": {
     "end_time": "2024-12-04T08:15:49.120749Z",
     "start_time": "2024-12-04T08:15:49.113901Z"
    }
   },
   "cell_type": "code",
   "source": [
    "X = np.array([[0, 0, 1, 0, 0, 0],\n",
    "              [0, 0, 0, 1, 0, 0],\n",
    "              [0, 0.7, 0, 0, 0.3, 0],\n",
    "              [0, 0, 0, 0, 0, 0.3],\n",
    "              [0, 0, 0.5, 0, 0, 0],\n",
    "              [0, 0, 0, 0.8, 0, 0]])\n",
    "\n",
    "Y = np.array([[0, 0],\n",
    "              [0, 0],\n",
    "              [0, 0],\n",
    "              [0, 0.7],\n",
    "              [0.5, 0],\n",
    "              [0.2, 0]])\n",
    "\n",
    "Z = np.array([[1, 0],\n",
    "              [0, 1]])"
   ],
   "id": "b85c33a0cb4c534f",
   "outputs": [],
   "execution_count": 5
  },
  {
   "metadata": {
    "ExecuteTime": {
     "end_time": "2024-12-04T08:15:49.200882Z",
     "start_time": "2024-12-04T08:15:49.194874Z"
    }
   },
   "cell_type": "code",
   "source": "print(X)",
   "id": "a890ac3d68272521",
   "outputs": [
    {
     "name": "stdout",
     "output_type": "stream",
     "text": [
      "[[0.  0.  1.  0.  0.  0. ]\n",
      " [0.  0.  0.  1.  0.  0. ]\n",
      " [0.  0.7 0.  0.  0.3 0. ]\n",
      " [0.  0.  0.  0.  0.  0.3]\n",
      " [0.  0.  0.5 0.  0.  0. ]\n",
      " [0.  0.  0.  0.8 0.  0. ]]\n"
     ]
    }
   ],
   "execution_count": 6
  },
  {
   "metadata": {
    "ExecuteTime": {
     "end_time": "2024-12-04T08:15:49.254867Z",
     "start_time": "2024-12-04T08:15:49.249397Z"
    }
   },
   "cell_type": "code",
   "source": "print(Y)",
   "id": "67ead8d159c6e40b",
   "outputs": [
    {
     "name": "stdout",
     "output_type": "stream",
     "text": [
      "[[0.  0. ]\n",
      " [0.  0. ]\n",
      " [0.  0. ]\n",
      " [0.  0.7]\n",
      " [0.5 0. ]\n",
      " [0.2 0. ]]\n"
     ]
    }
   ],
   "execution_count": 7
  },
  {
   "metadata": {
    "ExecuteTime": {
     "end_time": "2024-12-04T08:15:49.303160Z",
     "start_time": "2024-12-04T08:15:49.298777Z"
    }
   },
   "cell_type": "code",
   "source": "print(Z)",
   "id": "17c9630a6e378647",
   "outputs": [
    {
     "name": "stdout",
     "output_type": "stream",
     "text": [
      "[[1 0]\n",
      " [0 1]]\n"
     ]
    }
   ],
   "execution_count": 8
  },
  {
   "metadata": {
    "ExecuteTime": {
     "end_time": "2024-12-04T08:15:49.359440Z",
     "start_time": "2024-12-04T08:15:49.349175Z"
    }
   },
   "cell_type": "code",
   "source": "P_hitting_prob = np.matmul(np.linalg.inv(np.eye(6) - X),Y)",
   "id": "8ce6691613243321",
   "outputs": [],
   "execution_count": 9
  },
  {
   "metadata": {
    "ExecuteTime": {
     "end_time": "2024-12-04T08:15:49.392583Z",
     "start_time": "2024-12-04T08:15:49.386702Z"
    }
   },
   "cell_type": "code",
   "source": "print(P_hitting_prob)",
   "id": "c1e92ea1d866b197",
   "outputs": [
    {
     "name": "stdout",
     "output_type": "stream",
     "text": [
      "[[0.24148607 0.75851393]\n",
      " [0.07894737 0.92105263]\n",
      " [0.24148607 0.75851393]\n",
      " [0.07894737 0.92105263]\n",
      " [0.62074303 0.37925697]\n",
      " [0.26315789 0.73684211]]\n"
     ]
    }
   ],
   "execution_count": 10
  },
  {
   "metadata": {
    "ExecuteTime": {
     "end_time": "2024-12-04T08:15:49.452246Z",
     "start_time": "2024-12-04T08:15:49.446782Z"
    }
   },
   "cell_type": "code",
   "source": [
    "P_hitting_prob_rounded = np.round(P_hitting_prob, 2)\n",
    "print(P_hitting_prob_rounded)"
   ],
   "id": "16f2206484dc598f",
   "outputs": [
    {
     "name": "stdout",
     "output_type": "stream",
     "text": [
      "[[0.24 0.76]\n",
      " [0.08 0.92]\n",
      " [0.24 0.76]\n",
      " [0.08 0.92]\n",
      " [0.62 0.38]\n",
      " [0.26 0.74]]\n"
     ]
    }
   ],
   "execution_count": 11
  },
  {
   "metadata": {
    "ExecuteTime": {
     "end_time": "2024-12-04T08:15:49.503494Z",
     "start_time": "2024-12-04T08:15:49.497510Z"
    }
   },
   "cell_type": "code",
   "source": [
    "e = np.ones((6, 1))\n",
    "print(e)"
   ],
   "id": "8a2ac6479a87a623",
   "outputs": [
    {
     "name": "stdout",
     "output_type": "stream",
     "text": [
      "[[1.]\n",
      " [1.]\n",
      " [1.]\n",
      " [1.]\n",
      " [1.]\n",
      " [1.]]\n"
     ]
    }
   ],
   "execution_count": 12
  },
  {
   "metadata": {
    "ExecuteTime": {
     "end_time": "2024-12-04T08:15:49.542623Z",
     "start_time": "2024-12-04T08:15:49.537206Z"
    }
   },
   "cell_type": "code",
   "source": "P_hitting_time = np.matmul(np.linalg.inv(np.eye(6) - X), e) ",
   "id": "4d7dd89d543aad9c",
   "outputs": [],
   "execution_count": 13
  },
  {
   "metadata": {
    "ExecuteTime": {
     "end_time": "2024-12-04T08:15:49.586574Z",
     "start_time": "2024-12-04T08:15:49.581198Z"
    }
   },
   "cell_type": "code",
   "source": "print(P_hitting_time)",
   "id": "2686c369845635cc",
   "outputs": [
    {
     "name": "stdout",
     "output_type": "stream",
     "text": [
      "[[4.76160991]\n",
      " [2.71052632]\n",
      " [3.76160991]\n",
      " [1.71052632]\n",
      " [2.88080495]\n",
      " [2.36842105]]\n"
     ]
    }
   ],
   "execution_count": 14
  },
  {
   "metadata": {
    "ExecuteTime": {
     "end_time": "2024-12-04T08:15:49.638777Z",
     "start_time": "2024-12-04T08:15:49.633346Z"
    }
   },
   "cell_type": "code",
   "source": [
    "P_hitting_time_rounded = np.round(P_hitting_time, 2)\n",
    "print(P_hitting_time_rounded)"
   ],
   "id": "4a1351345a9eeb44",
   "outputs": [
    {
     "name": "stdout",
     "output_type": "stream",
     "text": [
      "[[4.76]\n",
      " [2.71]\n",
      " [3.76]\n",
      " [1.71]\n",
      " [2.88]\n",
      " [2.37]]\n"
     ]
    }
   ],
   "execution_count": 15
  },
  {
   "metadata": {
    "ExecuteTime": {
     "end_time": "2024-12-04T08:15:49.681195Z",
     "start_time": "2024-12-04T08:15:49.673193Z"
    }
   },
   "cell_type": "code",
   "source": [
    "X_e = np.array([[0, 0, 1, 0, 0, 0],\n",
    "              [0, 0, 0, 1, 0, 0],\n",
    "              [0, 0.7, 0, 0, 0.3, 0],\n",
    "              [0, 0, 0, 0, 0, 0.3],\n",
    "              [0, 0, 0.5, 0, 0, 0],\n",
    "              [0, 0, 0, 0.8, 0, 0]])\n",
    "\n",
    "Y_e = np.array([[0],\n",
    "              [0],\n",
    "              [0],\n",
    "              [0.7],\n",
    "              [0],\n",
    "              [0]])\n",
    "\n",
    "Z_e = np.array([[1]])"
   ],
   "id": "58fc6c082ae24ff5",
   "outputs": [],
   "execution_count": 16
  },
  {
   "metadata": {
    "ExecuteTime": {
     "end_time": "2024-12-04T08:15:51.950497Z",
     "start_time": "2024-12-04T08:15:51.940324Z"
    }
   },
   "cell_type": "code",
   "source": "print(X_e)",
   "id": "ce5f3708dd7def37",
   "outputs": [
    {
     "name": "stdout",
     "output_type": "stream",
     "text": [
      "[[0.  0.  1.  0.  0.  0. ]\n",
      " [0.  0.  0.  1.  0.  0. ]\n",
      " [0.  0.7 0.  0.  0.3 0. ]\n",
      " [0.  0.  0.  0.  0.  0.3]\n",
      " [0.  0.  0.5 0.  0.  0. ]\n",
      " [0.  0.  0.  0.8 0.  0. ]]\n"
     ]
    }
   ],
   "execution_count": 17
  },
  {
   "metadata": {
    "ExecuteTime": {
     "end_time": "2024-12-04T08:15:56.440368Z",
     "start_time": "2024-12-04T08:15:56.434369Z"
    }
   },
   "cell_type": "code",
   "source": "print(Y_e)",
   "id": "b444f8382a48f43a",
   "outputs": [
    {
     "name": "stdout",
     "output_type": "stream",
     "text": [
      "[[0. ]\n",
      " [0. ]\n",
      " [0. ]\n",
      " [0.7]\n",
      " [0. ]\n",
      " [0. ]]\n"
     ]
    }
   ],
   "execution_count": 18
  },
  {
   "metadata": {
    "ExecuteTime": {
     "end_time": "2024-12-04T08:16:03.584388Z",
     "start_time": "2024-12-04T08:16:03.575650Z"
    }
   },
   "cell_type": "code",
   "source": "print(Z_e)",
   "id": "73fc291ff70ebbd1",
   "outputs": [
    {
     "name": "stdout",
     "output_type": "stream",
     "text": [
      "[[1]]\n"
     ]
    }
   ],
   "execution_count": 19
  },
  {
   "metadata": {
    "ExecuteTime": {
     "end_time": "2024-12-04T08:16:43.702322Z",
     "start_time": "2024-12-04T08:16:43.696196Z"
    }
   },
   "cell_type": "code",
   "source": "P_e_hitting_time = np.matmul(np.linalg.inv(np.eye(6) - X_e), e)",
   "id": "d05266591bc57d4b",
   "outputs": [],
   "execution_count": 20
  },
  {
   "metadata": {
    "ExecuteTime": {
     "end_time": "2024-12-04T08:16:49.388218Z",
     "start_time": "2024-12-04T08:16:49.383211Z"
    }
   },
   "cell_type": "code",
   "source": "print(P_e_hitting_time)",
   "id": "dd7800cabb1755aa",
   "outputs": [
    {
     "name": "stdout",
     "output_type": "stream",
     "text": [
      "[[4.76160991]\n",
      " [2.71052632]\n",
      " [3.76160991]\n",
      " [1.71052632]\n",
      " [2.88080495]\n",
      " [2.36842105]]\n"
     ]
    }
   ],
   "execution_count": 21
  },
  {
   "metadata": {},
   "cell_type": "code",
   "outputs": [],
   "execution_count": null,
   "source": "",
   "id": "da78884fe5e2560c"
  }
 ],
 "metadata": {
  "kernelspec": {
   "display_name": "Python 3",
   "language": "python",
   "name": "python3"
  },
  "language_info": {
   "codemirror_mode": {
    "name": "ipython",
    "version": 2
   },
   "file_extension": ".py",
   "mimetype": "text/x-python",
   "name": "python",
   "nbconvert_exporter": "python",
   "pygments_lexer": "ipython2",
   "version": "2.7.6"
  }
 },
 "nbformat": 4,
 "nbformat_minor": 5
}
