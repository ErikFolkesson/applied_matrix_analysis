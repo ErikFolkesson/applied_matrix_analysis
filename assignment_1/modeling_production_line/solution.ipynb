{
 "cells": [
  {
   "cell_type": "code",
   "id": "initial_id",
   "metadata": {
    "collapsed": true,
    "ExecuteTime": {
     "end_time": "2024-12-05T08:21:00.715873Z",
     "start_time": "2024-12-05T08:21:00.709883Z"
    }
   },
   "source": "import numpy as np",
   "outputs": [],
   "execution_count": 121
  },
  {
   "metadata": {
    "ExecuteTime": {
     "end_time": "2024-12-05T08:21:00.779707Z",
     "start_time": "2024-12-05T08:21:00.769396Z"
    }
   },
   "cell_type": "code",
   "source": [
    "P = np.array([[0, 0, 1, 0, 0, 0, 0, 0],\n",
    "              [0, 0, 0, 1, 0, 0, 0, 0],\n",
    "              [0, 0.7, 0, 0, 0.3, 0, 0, 0],\n",
    "              [0, 0, 0, 0, 0, 0.3, 0, 0.7],\n",
    "              [0, 0, 0.5, 0, 0, 0, 0.5, 0],\n",
    "              [0, 0, 0, 0.8, 0, 0, 0.2, 0],\n",
    "              [0, 0, 0, 0, 0, 0, 1, 0],\n",
    "              [0, 0, 0, 0, 0, 0, 0, 1]])"
   ],
   "id": "6220306c3a114dca",
   "outputs": [],
   "execution_count": 122
  },
  {
   "metadata": {
    "ExecuteTime": {
     "end_time": "2024-12-05T08:21:00.815707Z",
     "start_time": "2024-12-05T08:21:00.808323Z"
    }
   },
   "cell_type": "code",
   "source": "print(P)",
   "id": "ba451621fbc58a76",
   "outputs": [
    {
     "name": "stdout",
     "output_type": "stream",
     "text": [
      "[[0.  0.  1.  0.  0.  0.  0.  0. ]\n",
      " [0.  0.  0.  1.  0.  0.  0.  0. ]\n",
      " [0.  0.7 0.  0.  0.3 0.  0.  0. ]\n",
      " [0.  0.  0.  0.  0.  0.3 0.  0.7]\n",
      " [0.  0.  0.5 0.  0.  0.  0.5 0. ]\n",
      " [0.  0.  0.  0.8 0.  0.  0.2 0. ]\n",
      " [0.  0.  0.  0.  0.  0.  1.  0. ]\n",
      " [0.  0.  0.  0.  0.  0.  0.  1. ]]\n"
     ]
    }
   ],
   "execution_count": 123
  },
  {
   "metadata": {
    "ExecuteTime": {
     "end_time": "2024-12-05T08:21:00.882651Z",
     "start_time": "2024-12-05T08:21:00.872719Z"
    }
   },
   "cell_type": "code",
   "source": [
    "X = np.array([[0, 0, 1, 0, 0, 0],\n",
    "              [0, 0, 0, 1, 0, 0],\n",
    "              [0, 0.7, 0, 0, 0.3, 0],\n",
    "              [0, 0, 0, 0, 0, 0.3],\n",
    "              [0, 0, 0.5, 0, 0, 0],\n",
    "              [0, 0, 0, 0.8, 0, 0]])\n",
    "\n",
    "Y = np.array([[0, 0],\n",
    "              [0, 0],\n",
    "              [0, 0],\n",
    "              [0, 0.7],\n",
    "              [0.5, 0],\n",
    "              [0.2, 0]])\n",
    "\n",
    "Z = np.array([[1, 0],\n",
    "              [0, 1]])"
   ],
   "id": "b85c33a0cb4c534f",
   "outputs": [],
   "execution_count": 124
  },
  {
   "metadata": {
    "ExecuteTime": {
     "end_time": "2024-12-05T08:21:00.949324Z",
     "start_time": "2024-12-05T08:21:00.942270Z"
    }
   },
   "cell_type": "code",
   "source": "print(X)",
   "id": "a890ac3d68272521",
   "outputs": [
    {
     "name": "stdout",
     "output_type": "stream",
     "text": [
      "[[0.  0.  1.  0.  0.  0. ]\n",
      " [0.  0.  0.  1.  0.  0. ]\n",
      " [0.  0.7 0.  0.  0.3 0. ]\n",
      " [0.  0.  0.  0.  0.  0.3]\n",
      " [0.  0.  0.5 0.  0.  0. ]\n",
      " [0.  0.  0.  0.8 0.  0. ]]\n"
     ]
    }
   ],
   "execution_count": 125
  },
  {
   "metadata": {
    "ExecuteTime": {
     "end_time": "2024-12-05T08:21:01.110440Z",
     "start_time": "2024-12-05T08:21:01.101841Z"
    }
   },
   "cell_type": "code",
   "source": "print(np.power((np.eye(6) + X), 6))",
   "id": "7dbda232619fff01",
   "outputs": [
    {
     "name": "stdout",
     "output_type": "stream",
     "text": [
      "[[1.00000e+00 0.00000e+00 1.00000e+00 0.00000e+00 0.00000e+00 0.00000e+00]\n",
      " [0.00000e+00 1.00000e+00 0.00000e+00 1.00000e+00 0.00000e+00 0.00000e+00]\n",
      " [0.00000e+00 1.17649e-01 1.00000e+00 0.00000e+00 7.29000e-04 0.00000e+00]\n",
      " [0.00000e+00 0.00000e+00 0.00000e+00 1.00000e+00 0.00000e+00 7.29000e-04]\n",
      " [0.00000e+00 0.00000e+00 1.56250e-02 0.00000e+00 1.00000e+00 0.00000e+00]\n",
      " [0.00000e+00 0.00000e+00 0.00000e+00 2.62144e-01 0.00000e+00 1.00000e+00]]\n"
     ]
    }
   ],
   "execution_count": 126
  },
  {
   "metadata": {
    "ExecuteTime": {
     "end_time": "2024-12-05T08:21:01.335213Z",
     "start_time": "2024-12-05T08:21:01.329361Z"
    }
   },
   "cell_type": "code",
   "source": "print(Y)",
   "id": "67ead8d159c6e40b",
   "outputs": [
    {
     "name": "stdout",
     "output_type": "stream",
     "text": [
      "[[0.  0. ]\n",
      " [0.  0. ]\n",
      " [0.  0. ]\n",
      " [0.  0.7]\n",
      " [0.5 0. ]\n",
      " [0.2 0. ]]\n"
     ]
    }
   ],
   "execution_count": 127
  },
  {
   "metadata": {
    "ExecuteTime": {
     "end_time": "2024-12-05T08:21:01.547270Z",
     "start_time": "2024-12-05T08:21:01.540873Z"
    }
   },
   "cell_type": "code",
   "source": "print(Z)",
   "id": "17c9630a6e378647",
   "outputs": [
    {
     "name": "stdout",
     "output_type": "stream",
     "text": [
      "[[1 0]\n",
      " [0 1]]\n"
     ]
    }
   ],
   "execution_count": 128
  },
  {
   "metadata": {
    "ExecuteTime": {
     "end_time": "2024-12-05T08:21:01.860481Z",
     "start_time": "2024-12-05T08:21:01.853483Z"
    }
   },
   "cell_type": "code",
   "source": "P_hitting_prob = np.matmul(np.linalg.inv(np.eye(6) - X),Y)",
   "id": "8ce6691613243321",
   "outputs": [],
   "execution_count": 129
  },
  {
   "metadata": {
    "ExecuteTime": {
     "end_time": "2024-12-05T08:21:02.222298Z",
     "start_time": "2024-12-05T08:21:02.215439Z"
    }
   },
   "cell_type": "code",
   "source": "print(P_hitting_prob)",
   "id": "c1e92ea1d866b197",
   "outputs": [
    {
     "name": "stdout",
     "output_type": "stream",
     "text": [
      "[[0.24148607 0.75851393]\n",
      " [0.07894737 0.92105263]\n",
      " [0.24148607 0.75851393]\n",
      " [0.07894737 0.92105263]\n",
      " [0.62074303 0.37925697]\n",
      " [0.26315789 0.73684211]]\n"
     ]
    }
   ],
   "execution_count": 130
  },
  {
   "metadata": {
    "ExecuteTime": {
     "end_time": "2024-12-05T08:21:02.300303Z",
     "start_time": "2024-12-05T08:21:02.293688Z"
    }
   },
   "cell_type": "code",
   "source": [
    "P_hitting_prob_rounded = np.round(P_hitting_prob, 2)\n",
    "print(P_hitting_prob_rounded)"
   ],
   "id": "16f2206484dc598f",
   "outputs": [
    {
     "name": "stdout",
     "output_type": "stream",
     "text": [
      "[[0.24 0.76]\n",
      " [0.08 0.92]\n",
      " [0.24 0.76]\n",
      " [0.08 0.92]\n",
      " [0.62 0.38]\n",
      " [0.26 0.74]]\n"
     ]
    }
   ],
   "execution_count": 131
  },
  {
   "metadata": {
    "ExecuteTime": {
     "end_time": "2024-12-05T08:21:02.389884Z",
     "start_time": "2024-12-05T08:21:02.382639Z"
    }
   },
   "cell_type": "code",
   "source": [
    "e = np.ones((6, 1))\n",
    "print(e)"
   ],
   "id": "8a2ac6479a87a623",
   "outputs": [
    {
     "name": "stdout",
     "output_type": "stream",
     "text": [
      "[[1.]\n",
      " [1.]\n",
      " [1.]\n",
      " [1.]\n",
      " [1.]\n",
      " [1.]]\n"
     ]
    }
   ],
   "execution_count": 132
  },
  {
   "metadata": {
    "ExecuteTime": {
     "end_time": "2024-12-05T08:21:02.545169Z",
     "start_time": "2024-12-05T08:21:02.538530Z"
    }
   },
   "cell_type": "code",
   "source": "P_hitting_time = np.matmul(np.linalg.inv(np.eye(6) - X), e) ",
   "id": "4d7dd89d543aad9c",
   "outputs": [],
   "execution_count": 133
  },
  {
   "metadata": {
    "ExecuteTime": {
     "end_time": "2024-12-05T08:21:02.592772Z",
     "start_time": "2024-12-05T08:21:02.583772Z"
    }
   },
   "cell_type": "code",
   "source": "print(P_hitting_time)",
   "id": "2686c369845635cc",
   "outputs": [
    {
     "name": "stdout",
     "output_type": "stream",
     "text": [
      "[[4.76160991]\n",
      " [2.71052632]\n",
      " [3.76160991]\n",
      " [1.71052632]\n",
      " [2.88080495]\n",
      " [2.36842105]]\n"
     ]
    }
   ],
   "execution_count": 134
  },
  {
   "metadata": {
    "ExecuteTime": {
     "end_time": "2024-12-05T08:21:02.660644Z",
     "start_time": "2024-12-05T08:21:02.654054Z"
    }
   },
   "cell_type": "code",
   "source": [
    "P_hitting_time_rounded = np.round(P_hitting_time, 2)\n",
    "print(P_hitting_time_rounded)"
   ],
   "id": "4a1351345a9eeb44",
   "outputs": [
    {
     "name": "stdout",
     "output_type": "stream",
     "text": [
      "[[4.76]\n",
      " [2.71]\n",
      " [3.76]\n",
      " [1.71]\n",
      " [2.88]\n",
      " [2.37]]\n"
     ]
    }
   ],
   "execution_count": 135
  },
  {
   "metadata": {
    "ExecuteTime": {
     "end_time": "2024-12-05T08:21:02.739052Z",
     "start_time": "2024-12-05T08:21:02.728686Z"
    }
   },
   "cell_type": "code",
   "source": [
    "X_e = np.array([[0, 0, 1, 0, 0, 0],\n",
    "              [0, 0, 0, 1, 0, 0],\n",
    "              [0, 0.7, 0, 0, 0.3, 0],\n",
    "              [0, 0, 0, 0, 0, 0.3],\n",
    "              [0, 0, 0.5, 0, 0, 0],\n",
    "              [0, 0, 0, 0.8, 0, 0]])\n",
    "\n",
    "Y_e = np.array([[0],\n",
    "              [0],\n",
    "              [0],\n",
    "              [0.7],\n",
    "              [0],\n",
    "              [0]])\n",
    "\n",
    "Z_e = np.array([[1]])"
   ],
   "id": "58fc6c082ae24ff5",
   "outputs": [],
   "execution_count": 136
  },
  {
   "metadata": {
    "ExecuteTime": {
     "end_time": "2024-12-05T08:21:02.804908Z",
     "start_time": "2024-12-05T08:21:02.796063Z"
    }
   },
   "cell_type": "code",
   "source": "print(X_e)",
   "id": "ce5f3708dd7def37",
   "outputs": [
    {
     "name": "stdout",
     "output_type": "stream",
     "text": [
      "[[0.  0.  1.  0.  0.  0. ]\n",
      " [0.  0.  0.  1.  0.  0. ]\n",
      " [0.  0.7 0.  0.  0.3 0. ]\n",
      " [0.  0.  0.  0.  0.  0.3]\n",
      " [0.  0.  0.5 0.  0.  0. ]\n",
      " [0.  0.  0.  0.8 0.  0. ]]\n"
     ]
    }
   ],
   "execution_count": 137
  },
  {
   "metadata": {
    "ExecuteTime": {
     "end_time": "2024-12-05T08:21:02.908480Z",
     "start_time": "2024-12-05T08:21:02.899818Z"
    }
   },
   "cell_type": "code",
   "source": "print(Y_e)",
   "id": "b444f8382a48f43a",
   "outputs": [
    {
     "name": "stdout",
     "output_type": "stream",
     "text": [
      "[[0. ]\n",
      " [0. ]\n",
      " [0. ]\n",
      " [0.7]\n",
      " [0. ]\n",
      " [0. ]]\n"
     ]
    }
   ],
   "execution_count": 138
  },
  {
   "metadata": {
    "ExecuteTime": {
     "end_time": "2024-12-05T08:21:03.035256Z",
     "start_time": "2024-12-05T08:21:03.028146Z"
    }
   },
   "cell_type": "code",
   "source": "print(Z_e)",
   "id": "73fc291ff70ebbd1",
   "outputs": [
    {
     "name": "stdout",
     "output_type": "stream",
     "text": [
      "[[1]]\n"
     ]
    }
   ],
   "execution_count": 139
  },
  {
   "metadata": {
    "ExecuteTime": {
     "end_time": "2024-12-05T08:21:03.128513Z",
     "start_time": "2024-12-05T08:21:03.120497Z"
    }
   },
   "cell_type": "code",
   "source": "P_e_hitting_time = np.matmul(np.linalg.inv(np.eye(6) - X_e), e)",
   "id": "d05266591bc57d4b",
   "outputs": [],
   "execution_count": 140
  },
  {
   "metadata": {
    "ExecuteTime": {
     "end_time": "2024-12-05T08:21:03.217975Z",
     "start_time": "2024-12-05T08:21:03.211538Z"
    }
   },
   "cell_type": "code",
   "source": "print(P_e_hitting_time)",
   "id": "dd7800cabb1755aa",
   "outputs": [
    {
     "name": "stdout",
     "output_type": "stream",
     "text": [
      "[[4.76160991]\n",
      " [2.71052632]\n",
      " [3.76160991]\n",
      " [1.71052632]\n",
      " [2.88080495]\n",
      " [2.36842105]]\n"
     ]
    }
   ],
   "execution_count": 141
  },
  {
   "metadata": {},
   "cell_type": "markdown",
   "source": "# d)",
   "id": "f324cec242f2a0bd"
  },
  {
   "metadata": {
    "ExecuteTime": {
     "end_time": "2024-12-05T08:21:03.341846Z",
     "start_time": "2024-12-05T08:21:03.332685Z"
    }
   },
   "cell_type": "code",
   "source": [
    "N = np.linalg.inv(np.eye(6) - X_e)\n",
    "print(N)"
   ],
   "id": "3f8b2801bce35a26",
   "outputs": [
    {
     "name": "stdout",
     "output_type": "stream",
     "text": [
      "[[1.         0.82352941 1.17647059 1.08359133 0.35294118 0.3250774 ]\n",
      " [0.         1.         0.         1.31578947 0.         0.39473684]\n",
      " [0.         0.82352941 1.17647059 1.08359133 0.35294118 0.3250774 ]\n",
      " [0.         0.         0.         1.31578947 0.         0.39473684]\n",
      " [0.         0.41176471 0.58823529 0.54179567 1.17647059 0.1625387 ]\n",
      " [0.         0.         0.         1.05263158 0.         1.31578947]]\n"
     ]
    }
   ],
   "execution_count": 142
  },
  {
   "metadata": {
    "ExecuteTime": {
     "end_time": "2024-12-05T08:21:03.822859Z",
     "start_time": "2024-12-05T08:21:03.815469Z"
    }
   },
   "cell_type": "code",
   "source": [
    "c = np.array([4,\n",
    "              4,\n",
    "              1,\n",
    "              1,\n",
    "              2,\n",
    "              2])\n",
    "print(c)"
   ],
   "id": "60162a1738ae0164",
   "outputs": [
    {
     "name": "stdout",
     "output_type": "stream",
     "text": [
      "[4 4 1 1 2 2]\n"
     ]
    }
   ],
   "execution_count": 143
  },
  {
   "metadata": {
    "ExecuteTime": {
     "end_time": "2024-12-05T08:21:03.965888Z",
     "start_time": "2024-12-05T08:21:03.959197Z"
    }
   },
   "cell_type": "code",
   "source": "C_tot = np.dot(N,c)",
   "id": "da78884fe5e2560c",
   "outputs": [],
   "execution_count": 144
  },
  {
   "metadata": {
    "ExecuteTime": {
     "end_time": "2024-12-05T08:21:04.022936Z",
     "start_time": "2024-12-05T08:21:04.016116Z"
    }
   },
   "cell_type": "code",
   "source": "print(C_tot)",
   "id": "644a1ab9095eec32",
   "outputs": [
    {
     "name": "stdout",
     "output_type": "stream",
     "text": [
      "[10.91021672  6.10526316  6.91021672  2.10526316  5.45510836  3.68421053]\n"
     ]
    }
   ],
   "execution_count": 145
  },
  {
   "metadata": {},
   "cell_type": "markdown",
   "source": "# e)",
   "id": "635cca7c131a405c"
  },
  {
   "metadata": {
    "ExecuteTime": {
     "end_time": "2024-12-05T08:21:04.148542Z",
     "start_time": "2024-12-05T08:21:04.137052Z"
    }
   },
   "cell_type": "code",
   "source": [
    "X = np.array([\n",
    "    [0, 0, 1, 0, 0, 0, 0, 0],\n",
    "    [0, 0, 0, 1, 0, 0, 0, 0],\n",
    "    [0, 0.7, 0, 0, 0.3, 0, 0, 0],\n",
    "    [0, 0, 0, 0, 0, 0.3, 0, 0],\n",
    "    [0, 0, 0.5, 0, 0, 0, 0.5, 0],\n",
    "    [0, 0, 0, 0.8, 0, 0, 0, 0.2],\n",
    "    [0, 0, 1, 0, 0, 0, 0, 0],\n",
    "    [0, 0, 0, 1, 0, 0, 0, 0]\n",
    "])\n",
    "\n",
    "print(X)"
   ],
   "id": "9b6ddc598d9260b2",
   "outputs": [
    {
     "name": "stdout",
     "output_type": "stream",
     "text": [
      "[[0.  0.  1.  0.  0.  0.  0.  0. ]\n",
      " [0.  0.  0.  1.  0.  0.  0.  0. ]\n",
      " [0.  0.7 0.  0.  0.3 0.  0.  0. ]\n",
      " [0.  0.  0.  0.  0.  0.3 0.  0. ]\n",
      " [0.  0.  0.5 0.  0.  0.  0.5 0. ]\n",
      " [0.  0.  0.  0.8 0.  0.  0.  0.2]\n",
      " [0.  0.  1.  0.  0.  0.  0.  0. ]\n",
      " [0.  0.  0.  1.  0.  0.  0.  0. ]]\n"
     ]
    }
   ],
   "execution_count": 146
  },
  {
   "metadata": {
    "ExecuteTime": {
     "end_time": "2024-12-05T08:21:04.248134Z",
     "start_time": "2024-12-05T08:21:04.238939Z"
    }
   },
   "cell_type": "code",
   "source": [
    "N = np.linalg.inv(np.eye(8) - X)\n",
    "print(N)"
   ],
   "id": "38ff5f77f0f5050f",
   "outputs": [
    {
     "name": "stdout",
     "output_type": "stream",
     "text": [
      "[[1.         1.         1.42857143 1.42857143 0.42857143 0.42857143\n",
      "  0.21428571 0.08571429]\n",
      " [0.         1.         0.         1.42857143 0.         0.42857143\n",
      "  0.         0.08571429]\n",
      " [0.         1.         1.42857143 1.42857143 0.42857143 0.42857143\n",
      "  0.21428571 0.08571429]\n",
      " [0.         0.         0.         1.42857143 0.         0.42857143\n",
      "  0.         0.08571429]\n",
      " [0.         1.         1.42857143 1.42857143 1.42857143 0.42857143\n",
      "  0.71428571 0.08571429]\n",
      " [0.         0.         0.         1.42857143 0.         1.42857143\n",
      "  0.         0.28571429]\n",
      " [0.         1.         1.42857143 1.42857143 0.42857143 0.42857143\n",
      "  1.21428571 0.08571429]\n",
      " [0.         0.         0.         1.42857143 0.         0.42857143\n",
      "  0.         1.08571429]]\n"
     ]
    }
   ],
   "execution_count": 147
  },
  {
   "metadata": {
    "ExecuteTime": {
     "end_time": "2024-12-05T08:21:04.328545Z",
     "start_time": "2024-12-05T08:21:04.320428Z"
    }
   },
   "cell_type": "code",
   "source": "print(N[0,6] + N[0,7])",
   "id": "4256d396f96eee3f",
   "outputs": [
    {
     "name": "stdout",
     "output_type": "stream",
     "text": [
      "0.30000000000000004\n"
     ]
    }
   ],
   "execution_count": 148
  },
  {
   "metadata": {
    "ExecuteTime": {
     "end_time": "2024-12-05T08:21:04.416620Z",
     "start_time": "2024-12-05T08:21:04.408687Z"
    }
   },
   "cell_type": "code",
   "source": [
    "c = np.array([4,\n",
    "              4,\n",
    "              1,\n",
    "              1,\n",
    "              2,\n",
    "              2,\n",
    "              4,\n",
    "              4])\n",
    "print(c)"
   ],
   "id": "8218fea8e09aec95",
   "outputs": [
    {
     "name": "stdout",
     "output_type": "stream",
     "text": [
      "[4 4 1 1 2 2 4 4]\n"
     ]
    }
   ],
   "execution_count": 149
  },
  {
   "metadata": {
    "ExecuteTime": {
     "end_time": "2024-12-05T08:21:04.497140Z",
     "start_time": "2024-12-05T08:21:04.489111Z"
    }
   },
   "cell_type": "code",
   "source": [
    "C_tot = np.dot(N,c)\n",
    "print(C_tot)"
   ],
   "id": "ca6ac5dab6e17266",
   "outputs": [
    {
     "name": "stdout",
     "output_type": "stream",
     "text": [
      "[13.77142857  6.62857143  9.77142857  2.62857143 13.77142857  5.42857143\n",
      " 13.77142857  6.62857143]\n"
     ]
    }
   ],
   "execution_count": 150
  },
  {
   "metadata": {
    "ExecuteTime": {
     "end_time": "2024-12-05T08:21:04.571214Z",
     "start_time": "2024-12-05T08:21:04.566213Z"
    }
   },
   "cell_type": "code",
   "source": "",
   "id": "19206fa11fd0752f",
   "outputs": [],
   "execution_count": null
  }
 ],
 "metadata": {
  "kernelspec": {
   "display_name": "Python 3",
   "language": "python",
   "name": "python3"
  },
  "language_info": {
   "codemirror_mode": {
    "name": "ipython",
    "version": 2
   },
   "file_extension": ".py",
   "mimetype": "text/x-python",
   "name": "python",
   "nbconvert_exporter": "python",
   "pygments_lexer": "ipython2",
   "version": "2.7.6"
  }
 },
 "nbformat": 4,
 "nbformat_minor": 5
}
