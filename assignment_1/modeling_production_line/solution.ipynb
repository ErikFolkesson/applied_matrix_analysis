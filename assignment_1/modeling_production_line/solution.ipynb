{
 "cells": [
  {
   "cell_type": "code",
   "id": "initial_id",
   "metadata": {
    "collapsed": true
   },
   "source": "import numpy as np",
   "outputs": [],
   "execution_count": 1
  },
  {
   "metadata": {},
   "cell_type": "code",
   "source": [
    "P = np.array([[0, 0, 1, 0, 0, 0, 0, 0],\n",
    "              [0, 0, 0, 1, 0, 0, 0, 0],\n",
    "              [0, 0.7, 0, 0, 0.3, 0, 0, 0],\n",
    "              [0, 0, 0, 0, 0, 0.3, 0, 0.7],\n",
    "              [0, 0, 0.5, 0, 0, 0, 0.5, 0],\n",
    "              [0, 0, 0, 0.8, 0, 0, 0.2, 0],\n",
    "              [0, 0, 0, 0, 0, 0, 1, 0],\n",
    "              [0, 0, 0, 0, 0, 0, 0, 1]])"
   ],
   "id": "6220306c3a114dca",
   "outputs": [],
   "execution_count": 2
  },
  {
   "metadata": {},
   "cell_type": "code",
   "source": "print(P)",
   "id": "ba451621fbc58a76",
   "outputs": [],
   "execution_count": 3
  },
  {
   "metadata": {},
   "cell_type": "code",
   "source": [
    "X = np.array([[0, 0, 1, 0, 0, 0],\n",
    "              [0, 0, 0, 1, 0, 0],\n",
    "              [0, 0.7, 0, 0, 0.3, 0],\n",
    "              [0, 0, 0, 0, 0, 0.3],\n",
    "              [0, 0, 0.5, 0, 0, 0],\n",
    "              [0, 0, 0, 0.8, 0, 0]])\n",
    "\n",
    "Y = np.array([[0, 0],\n",
    "              [0, 0],\n",
    "              [0, 0],\n",
    "              [0, 0.7],\n",
    "              [0.5, 0],\n",
    "              [0.2, 0]])\n",
    "\n",
    "Z = np.array([[1, 0],\n",
    "              [0, 1]])"
   ],
   "id": "b85c33a0cb4c534f",
   "outputs": [],
   "execution_count": 4
  },
  {
   "metadata": {
    "ExecuteTime": {
     "end_time": "2024-12-04T12:56:31.951887Z",
     "start_time": "2024-12-04T12:56:31.939857Z"
    }
   },
   "cell_type": "code",
   "source": "print(X)",
   "id": "a890ac3d68272521",
   "outputs": [
    {
     "name": "stdout",
     "output_type": "stream",
     "text": [
      "[[0.  0.  1.  0.  0.  0. ]\n",
      " [0.  0.  0.  1.  0.  0. ]\n",
      " [0.  0.7 0.  0.  0.3 0. ]\n",
      " [0.  0.  0.  0.  0.  0.3]\n",
      " [0.  0.  0.5 0.  0.  0. ]\n",
      " [0.  0.  0.  0.8 0.  0. ]]\n"
     ]
    }
   ],
   "execution_count": 5
  },
  {
   "metadata": {
    "ExecuteTime": {
     "end_time": "2024-12-04T12:56:32.078285Z",
     "start_time": "2024-12-04T12:56:32.073377Z"
    }
   },
   "cell_type": "code",
   "source": "print(Y)",
   "id": "67ead8d159c6e40b",
   "outputs": [
    {
     "name": "stdout",
     "output_type": "stream",
     "text": [
      "[[0.  0. ]\n",
      " [0.  0. ]\n",
      " [0.  0. ]\n",
      " [0.  0.7]\n",
      " [0.5 0. ]\n",
      " [0.2 0. ]]\n"
     ]
    }
   ],
   "execution_count": 6
  },
  {
   "metadata": {
    "ExecuteTime": {
     "end_time": "2024-12-04T12:56:32.159982Z",
     "start_time": "2024-12-04T12:56:32.156076Z"
    }
   },
   "cell_type": "code",
   "source": "print(Z)",
   "id": "17c9630a6e378647",
   "outputs": [
    {
     "name": "stdout",
     "output_type": "stream",
     "text": [
      "[[1 0]\n",
      " [0 1]]\n"
     ]
    }
   ],
   "execution_count": 7
  },
  {
   "metadata": {
    "ExecuteTime": {
     "end_time": "2024-12-04T12:56:32.230825Z",
     "start_time": "2024-12-04T12:56:32.220435Z"
    }
   },
   "cell_type": "code",
   "source": "P_hitting_prob = np.matmul(np.linalg.inv(np.eye(6) - X),Y)",
   "id": "8ce6691613243321",
   "outputs": [],
   "execution_count": 8
  },
  {
   "metadata": {
    "ExecuteTime": {
     "end_time": "2024-12-04T12:56:32.269484Z",
     "start_time": "2024-12-04T12:56:32.264015Z"
    }
   },
   "cell_type": "code",
   "source": "print(P_hitting_prob)",
   "id": "c1e92ea1d866b197",
   "outputs": [
    {
     "name": "stdout",
     "output_type": "stream",
     "text": [
      "[[0.24148607 0.75851393]\n",
      " [0.07894737 0.92105263]\n",
      " [0.24148607 0.75851393]\n",
      " [0.07894737 0.92105263]\n",
      " [0.62074303 0.37925697]\n",
      " [0.26315789 0.73684211]]\n"
     ]
    }
   ],
   "execution_count": 9
  },
  {
   "metadata": {
    "ExecuteTime": {
     "end_time": "2024-12-04T12:56:32.343740Z",
     "start_time": "2024-12-04T12:56:32.337367Z"
    }
   },
   "cell_type": "code",
   "source": [
    "P_hitting_prob_rounded = np.round(P_hitting_prob, 2)\n",
    "print(P_hitting_prob_rounded)"
   ],
   "id": "16f2206484dc598f",
   "outputs": [
    {
     "name": "stdout",
     "output_type": "stream",
     "text": [
      "[[0.24 0.76]\n",
      " [0.08 0.92]\n",
      " [0.24 0.76]\n",
      " [0.08 0.92]\n",
      " [0.62 0.38]\n",
      " [0.26 0.74]]\n"
     ]
    }
   ],
   "execution_count": 10
  },
  {
   "metadata": {
    "ExecuteTime": {
     "end_time": "2024-12-04T12:56:32.406347Z",
     "start_time": "2024-12-04T12:56:32.400511Z"
    }
   },
   "cell_type": "code",
   "source": [
    "e = np.ones((6, 1))\n",
    "print(e)"
   ],
   "id": "8a2ac6479a87a623",
   "outputs": [
    {
     "name": "stdout",
     "output_type": "stream",
     "text": [
      "[[1.]\n",
      " [1.]\n",
      " [1.]\n",
      " [1.]\n",
      " [1.]\n",
      " [1.]]\n"
     ]
    }
   ],
   "execution_count": 11
  },
  {
   "metadata": {
    "ExecuteTime": {
     "end_time": "2024-12-04T12:56:32.475984Z",
     "start_time": "2024-12-04T12:56:32.467533Z"
    }
   },
   "cell_type": "code",
   "source": "P_hitting_time = np.matmul(np.linalg.inv(np.eye(6) - X), e) ",
   "id": "4d7dd89d543aad9c",
   "outputs": [],
   "execution_count": 12
  },
  {
   "metadata": {
    "ExecuteTime": {
     "end_time": "2024-12-04T12:56:32.515737Z",
     "start_time": "2024-12-04T12:56:32.509739Z"
    }
   },
   "cell_type": "code",
   "source": "print(P_hitting_time)",
   "id": "2686c369845635cc",
   "outputs": [
    {
     "name": "stdout",
     "output_type": "stream",
     "text": [
      "[[4.76160991]\n",
      " [2.71052632]\n",
      " [3.76160991]\n",
      " [1.71052632]\n",
      " [2.88080495]\n",
      " [2.36842105]]\n"
     ]
    }
   ],
   "execution_count": 13
  },
  {
   "metadata": {
    "ExecuteTime": {
     "end_time": "2024-12-04T12:56:32.564240Z",
     "start_time": "2024-12-04T12:56:32.559388Z"
    }
   },
   "cell_type": "code",
   "source": [
    "P_hitting_time_rounded = np.round(P_hitting_time, 2)\n",
    "print(P_hitting_time_rounded)"
   ],
   "id": "4a1351345a9eeb44",
   "outputs": [
    {
     "name": "stdout",
     "output_type": "stream",
     "text": [
      "[[4.76]\n",
      " [2.71]\n",
      " [3.76]\n",
      " [1.71]\n",
      " [2.88]\n",
      " [2.37]]\n"
     ]
    }
   ],
   "execution_count": 14
  },
  {
   "metadata": {
    "ExecuteTime": {
     "end_time": "2024-12-04T12:56:32.655780Z",
     "start_time": "2024-12-04T12:56:32.640139Z"
    }
   },
   "cell_type": "code",
   "source": [
    "X_e = np.array([[0, 0, 1, 0, 0, 0],\n",
    "              [0, 0, 0, 1, 0, 0],\n",
    "              [0, 0.7, 0, 0, 0.3, 0],\n",
    "              [0, 0, 0, 0, 0, 0.3],\n",
    "              [0, 0, 0.5, 0, 0, 0],\n",
    "              [0, 0, 0, 0.8, 0, 0]])\n",
    "\n",
    "Y_e = np.array([[0],\n",
    "              [0],\n",
    "              [0],\n",
    "              [0.7],\n",
    "              [0],\n",
    "              [0]])\n",
    "\n",
    "Z_e = np.array([[1]])"
   ],
   "id": "58fc6c082ae24ff5",
   "outputs": [],
   "execution_count": 15
  },
  {
   "metadata": {
    "ExecuteTime": {
     "end_time": "2024-12-04T12:56:32.723355Z",
     "start_time": "2024-12-04T12:56:32.716111Z"
    }
   },
   "cell_type": "code",
   "source": "print(X_e)",
   "id": "ce5f3708dd7def37",
   "outputs": [
    {
     "name": "stdout",
     "output_type": "stream",
     "text": [
      "[[0.  0.  1.  0.  0.  0. ]\n",
      " [0.  0.  0.  1.  0.  0. ]\n",
      " [0.  0.7 0.  0.  0.3 0. ]\n",
      " [0.  0.  0.  0.  0.  0.3]\n",
      " [0.  0.  0.5 0.  0.  0. ]\n",
      " [0.  0.  0.  0.8 0.  0. ]]\n"
     ]
    }
   ],
   "execution_count": 16
  },
  {
   "metadata": {
    "ExecuteTime": {
     "end_time": "2024-12-04T12:56:32.972982Z",
     "start_time": "2024-12-04T12:56:32.959004Z"
    }
   },
   "cell_type": "code",
   "source": "print(Y_e)",
   "id": "b444f8382a48f43a",
   "outputs": [
    {
     "name": "stdout",
     "output_type": "stream",
     "text": [
      "[[0. ]\n",
      " [0. ]\n",
      " [0. ]\n",
      " [0.7]\n",
      " [0. ]\n",
      " [0. ]]\n"
     ]
    }
   ],
   "execution_count": 17
  },
  {
   "metadata": {
    "ExecuteTime": {
     "end_time": "2024-12-04T12:56:33.264911Z",
     "start_time": "2024-12-04T12:56:33.258512Z"
    }
   },
   "cell_type": "code",
   "source": "print(Z_e)",
   "id": "73fc291ff70ebbd1",
   "outputs": [
    {
     "name": "stdout",
     "output_type": "stream",
     "text": [
      "[[1]]\n"
     ]
    }
   ],
   "execution_count": 18
  },
  {
   "metadata": {
    "ExecuteTime": {
     "end_time": "2024-12-04T12:56:33.403394Z",
     "start_time": "2024-12-04T12:56:33.398750Z"
    }
   },
   "cell_type": "code",
   "source": "P_e_hitting_time = np.matmul(np.linalg.inv(np.eye(6) - X_e), e)",
   "id": "d05266591bc57d4b",
   "outputs": [],
   "execution_count": 19
  },
  {
   "metadata": {
    "ExecuteTime": {
     "end_time": "2024-12-04T12:56:33.472092Z",
     "start_time": "2024-12-04T12:56:33.466144Z"
    }
   },
   "cell_type": "code",
   "source": "print(P_e_hitting_time)",
   "id": "dd7800cabb1755aa",
   "outputs": [
    {
     "name": "stdout",
     "output_type": "stream",
     "text": [
      "[[4.76160991]\n",
      " [2.71052632]\n",
      " [3.76160991]\n",
      " [1.71052632]\n",
      " [2.88080495]\n",
      " [2.36842105]]\n"
     ]
    }
   ],
   "execution_count": 20
  },
  {
   "metadata": {},
   "cell_type": "markdown",
   "source": "# d)",
   "id": "f324cec242f2a0bd"
  },
  {
   "metadata": {
    "ExecuteTime": {
     "end_time": "2024-12-04T12:56:33.618358Z",
     "start_time": "2024-12-04T12:56:33.612196Z"
    }
   },
   "cell_type": "code",
   "source": [
    "N = np.linalg.inv(np.eye(6) - X_e)\n",
    "print(N)"
   ],
   "id": "3f8b2801bce35a26",
   "outputs": [
    {
     "name": "stdout",
     "output_type": "stream",
     "text": [
      "[[1.         0.82352941 1.17647059 1.08359133 0.35294118 0.3250774 ]\n",
      " [0.         1.         0.         1.31578947 0.         0.39473684]\n",
      " [0.         0.82352941 1.17647059 1.08359133 0.35294118 0.3250774 ]\n",
      " [0.         0.         0.         1.31578947 0.         0.39473684]\n",
      " [0.         0.41176471 0.58823529 0.54179567 1.17647059 0.1625387 ]\n",
      " [0.         0.         0.         1.05263158 0.         1.31578947]]\n"
     ]
    }
   ],
   "execution_count": 21
  },
  {
   "metadata": {
    "ExecuteTime": {
     "end_time": "2024-12-04T12:58:19.516260Z",
     "start_time": "2024-12-04T12:58:19.511836Z"
    }
   },
   "cell_type": "code",
   "source": [
    "c = np.array([4,\n",
    "              4,\n",
    "              1,\n",
    "              1,\n",
    "              2,\n",
    "              2])\n",
    "print(c)"
   ],
   "id": "60162a1738ae0164",
   "outputs": [
    {
     "name": "stdout",
     "output_type": "stream",
     "text": [
      "[4 4 1 1 2 2]\n"
     ]
    }
   ],
   "execution_count": 24
  },
  {
   "metadata": {
    "ExecuteTime": {
     "end_time": "2024-12-04T12:58:24.515826Z",
     "start_time": "2024-12-04T12:58:24.510826Z"
    }
   },
   "cell_type": "code",
   "source": "C_tot = np.dot(N,c)",
   "id": "da78884fe5e2560c",
   "outputs": [],
   "execution_count": 25
  },
  {
   "metadata": {
    "ExecuteTime": {
     "end_time": "2024-12-04T12:58:33.813530Z",
     "start_time": "2024-12-04T12:58:33.808485Z"
    }
   },
   "cell_type": "code",
   "source": "print(C_tot)",
   "id": "644a1ab9095eec32",
   "outputs": [
    {
     "name": "stdout",
     "output_type": "stream",
     "text": [
      "[10.91021672  6.10526316  6.91021672  2.10526316  5.45510836  3.68421053]\n"
     ]
    }
   ],
   "execution_count": 26
  },
  {
   "metadata": {},
   "cell_type": "markdown",
   "source": "# e)",
   "id": "635cca7c131a405c"
  },
  {
   "metadata": {
    "ExecuteTime": {
     "end_time": "2024-12-04T13:27:24.655882Z",
     "start_time": "2024-12-04T13:27:24.644507Z"
    }
   },
   "cell_type": "code",
   "source": [
    "X = np.array([\n",
    "    [0, 0, 1, 0, 0, 0, 0, 0],\n",
    "    [0, 0, 0, 1, 0, 0, 0, 0],\n",
    "    [0, 0.7, 0, 0, 0.3, 0, 0, 0],\n",
    "    [0, 0, 0, 0, 0, 0.3, 0, 0],\n",
    "    [0, 0, 0.5, 0, 0, 0, 0.5, 0],\n",
    "    [0, 0, 0, 0.8, 0, 0, 0, 0.2],\n",
    "    [0, 0, 1, 0, 0, 0, 0, 0],\n",
    "    [0, 0, 0, 1, 0, 0, 0, 0]\n",
    "])\n",
    "\n",
    "print(X)"
   ],
   "id": "9b6ddc598d9260b2",
   "outputs": [
    {
     "name": "stdout",
     "output_type": "stream",
     "text": [
      "[[0.  0.  1.  0.  0.  0.  0.  0. ]\n",
      " [0.  0.  0.  1.  0.  0.  0.  0. ]\n",
      " [0.  0.7 0.  0.  0.3 0.  0.  0. ]\n",
      " [0.  0.  0.  0.  0.  0.3 0.  0. ]\n",
      " [0.  0.  0.5 0.  0.  0.  0.5 0. ]\n",
      " [0.  0.  0.  0.8 0.  0.  0.  0.2]\n",
      " [0.  0.  1.  0.  0.  0.  0.  0. ]\n",
      " [0.  0.  0.  1.  0.  0.  0.  0. ]]\n"
     ]
    }
   ],
   "execution_count": 32
  },
  {
   "metadata": {
    "ExecuteTime": {
     "end_time": "2024-12-04T13:27:25.430882Z",
     "start_time": "2024-12-04T13:27:25.425266Z"
    }
   },
   "cell_type": "code",
   "source": [
    "N = np.linalg.inv(np.eye(8) - X)\n",
    "print(N)"
   ],
   "id": "38ff5f77f0f5050f",
   "outputs": [
    {
     "name": "stdout",
     "output_type": "stream",
     "text": [
      "[[1.         1.         1.42857143 1.42857143 0.42857143 0.42857143\n",
      "  0.21428571 0.08571429]\n",
      " [0.         1.         0.         1.42857143 0.         0.42857143\n",
      "  0.         0.08571429]\n",
      " [0.         1.         1.42857143 1.42857143 0.42857143 0.42857143\n",
      "  0.21428571 0.08571429]\n",
      " [0.         0.         0.         1.42857143 0.         0.42857143\n",
      "  0.         0.08571429]\n",
      " [0.         1.         1.42857143 1.42857143 1.42857143 0.42857143\n",
      "  0.71428571 0.08571429]\n",
      " [0.         0.         0.         1.42857143 0.         1.42857143\n",
      "  0.         0.28571429]\n",
      " [0.         1.         1.42857143 1.42857143 0.42857143 0.42857143\n",
      "  1.21428571 0.08571429]\n",
      " [0.         0.         0.         1.42857143 0.         0.42857143\n",
      "  0.         1.08571429]]\n"
     ]
    }
   ],
   "execution_count": 33
  },
  {
   "metadata": {
    "ExecuteTime": {
     "end_time": "2024-12-04T13:28:23.209259Z",
     "start_time": "2024-12-04T13:28:23.203542Z"
    }
   },
   "cell_type": "code",
   "source": "print(N[0,6] + N[0,7])",
   "id": "4256d396f96eee3f",
   "outputs": [
    {
     "name": "stdout",
     "output_type": "stream",
     "text": [
      "0.30000000000000004\n"
     ]
    }
   ],
   "execution_count": 36
  },
  {
   "metadata": {
    "ExecuteTime": {
     "end_time": "2024-12-04T13:27:26.998448Z",
     "start_time": "2024-12-04T13:27:26.987544Z"
    }
   },
   "cell_type": "code",
   "source": [
    "c = np.array([4,\n",
    "              4,\n",
    "              1,\n",
    "              1,\n",
    "              2,\n",
    "              2,\n",
    "              4,\n",
    "              4])\n",
    "print(c)"
   ],
   "id": "8218fea8e09aec95",
   "outputs": [
    {
     "name": "stdout",
     "output_type": "stream",
     "text": [
      "[4 4 1 1 2 2 4 4]\n"
     ]
    }
   ],
   "execution_count": 34
  },
  {
   "metadata": {
    "ExecuteTime": {
     "end_time": "2024-12-04T13:27:27.732823Z",
     "start_time": "2024-12-04T13:27:27.727589Z"
    }
   },
   "cell_type": "code",
   "source": [
    "C_tot = np.dot(N,c)\n",
    "print(C_tot)"
   ],
   "id": "ca6ac5dab6e17266",
   "outputs": [
    {
     "name": "stdout",
     "output_type": "stream",
     "text": [
      "[13.77142857  6.62857143  9.77142857  2.62857143 13.77142857  5.42857143\n",
      " 13.77142857  6.62857143]\n"
     ]
    }
   ],
   "execution_count": 35
  },
  {
   "metadata": {},
   "cell_type": "code",
   "outputs": [],
   "execution_count": null,
   "source": "",
   "id": "19206fa11fd0752f"
  }
 ],
 "metadata": {
  "kernelspec": {
   "display_name": "Python 3",
   "language": "python",
   "name": "python3"
  },
  "language_info": {
   "codemirror_mode": {
    "name": "ipython",
    "version": 2
   },
   "file_extension": ".py",
   "mimetype": "text/x-python",
   "name": "python",
   "nbconvert_exporter": "python",
   "pygments_lexer": "ipython2",
   "version": "2.7.6"
  }
 },
 "nbformat": 4,
 "nbformat_minor": 5
}
