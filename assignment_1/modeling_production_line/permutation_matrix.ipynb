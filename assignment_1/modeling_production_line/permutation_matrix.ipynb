{
 "cells": [
  {
   "cell_type": "code",
   "id": "initial_id",
   "metadata": {
    "collapsed": true,
    "ExecuteTime": {
     "end_time": "2024-12-03T15:12:22.277302Z",
     "start_time": "2024-12-03T15:12:22.153493Z"
    }
   },
   "source": "import numpy as np",
   "outputs": [],
   "execution_count": 1
  },
  {
   "metadata": {
    "ExecuteTime": {
     "end_time": "2024-12-03T15:12:22.293440Z",
     "start_time": "2024-12-03T15:12:22.285209Z"
    }
   },
   "cell_type": "code",
   "source": [
    "A = np.array([[0, 0, 1, 0, 0, 0, 0, 0],\n",
    "              [0, 0, 0, 1, 0, 0, 0, 0],\n",
    "              [0, 0.7, 0, 0, 0.3, 0, 0, 0],\n",
    "              [0, 0, 0, 0, 0, 0.3, 0, 0.7],\n",
    "              [0, 0, 0.5, 0, 0, 0, 0.5, 0],\n",
    "              [0, 0, 0, 0.8, 0, 0, 0.2, 0],\n",
    "              [0, 0, 0, 0, 0, 0, 1, 0],\n",
    "              [0, 0, 0, 0, 0, 0, 0, 1]])\n",
    "print(A)"
   ],
   "id": "55f4cd31b294a1ad",
   "outputs": [
    {
     "name": "stdout",
     "output_type": "stream",
     "text": [
      "[[0.  0.  1.  0.  0.  0.  0.  0. ]\n",
      " [0.  0.  0.  1.  0.  0.  0.  0. ]\n",
      " [0.  0.7 0.  0.  0.3 0.  0.  0. ]\n",
      " [0.  0.  0.  0.  0.  0.3 0.  0.7]\n",
      " [0.  0.  0.5 0.  0.  0.  0.5 0. ]\n",
      " [0.  0.  0.  0.8 0.  0.  0.2 0. ]\n",
      " [0.  0.  0.  0.  0.  0.  1.  0. ]\n",
      " [0.  0.  0.  0.  0.  0.  0.  1. ]]\n"
     ]
    }
   ],
   "execution_count": 2
  },
  {
   "metadata": {
    "ExecuteTime": {
     "end_time": "2024-12-03T15:15:06.354957Z",
     "start_time": "2024-12-03T15:15:06.348959Z"
    }
   },
   "cell_type": "code",
   "source": [
    "P = np.array([[0, 0, 0, 0, 1, 0, 0, 0],\n",
    "              [0, 1, 0, 0, 0, 0, 0, 0],\n",
    "              [0, 0, 1, 0, 0, 0, 0, 0],\n",
    "              [0, 0, 0, 1, 0, 0, 0, 0],\n",
    "              [1, 0, 0, 0, 0, 0, 0, 0],\n",
    "              [0, 0, 0, 0, 0, 1, 0, 0],\n",
    "              [0, 0, 0, 0, 0, 0, 1, 0],\n",
    "              [0, 0, 0, 0, 0, 0, 0, 1]])\n",
    "\n",
    "print(P)"
   ],
   "id": "bb1d147ca43c385a",
   "outputs": [
    {
     "name": "stdout",
     "output_type": "stream",
     "text": [
      "[[0 0 0 0 1 0 0 0]\n",
      " [0 1 0 0 0 0 0 0]\n",
      " [0 0 1 0 0 0 0 0]\n",
      " [0 0 0 1 0 0 0 0]\n",
      " [1 0 0 0 0 0 0 0]\n",
      " [0 0 0 0 0 1 0 0]\n",
      " [0 0 0 0 0 0 1 0]\n",
      " [0 0 0 0 0 0 0 1]]\n"
     ]
    }
   ],
   "execution_count": 9
  },
  {
   "metadata": {
    "ExecuteTime": {
     "end_time": "2024-12-03T15:15:06.532788Z",
     "start_time": "2024-12-03T15:15:06.527549Z"
    }
   },
   "cell_type": "code",
   "source": [
    "A_new = np.dot(np.dot(P, A), np.linalg.inv(P))\n",
    "print(A_new)"
   ],
   "id": "c64eb676b0ab292c",
   "outputs": [
    {
     "name": "stdout",
     "output_type": "stream",
     "text": [
      "[[0.  0.  0.5 0.  0.  0.  0.5 0. ]\n",
      " [0.  0.  0.  1.  0.  0.  0.  0. ]\n",
      " [0.3 0.7 0.  0.  0.  0.  0.  0. ]\n",
      " [0.  0.  0.  0.  0.  0.3 0.  0.7]\n",
      " [0.  0.  1.  0.  0.  0.  0.  0. ]\n",
      " [0.  0.  0.  0.8 0.  0.  0.2 0. ]\n",
      " [0.  0.  0.  0.  0.  0.  1.  0. ]\n",
      " [0.  0.  0.  0.  0.  0.  0.  1. ]]\n"
     ]
    }
   ],
   "execution_count": 10
  },
  {
   "metadata": {
    "ExecuteTime": {
     "end_time": "2024-12-03T15:12:22.631832Z",
     "start_time": "2024-12-03T15:12:22.628899Z"
    }
   },
   "cell_type": "code",
   "source": "",
   "id": "d84033f5b52c2668",
   "outputs": [],
   "execution_count": null
  }
 ],
 "metadata": {
  "kernelspec": {
   "display_name": "Python 3",
   "language": "python",
   "name": "python3"
  },
  "language_info": {
   "codemirror_mode": {
    "name": "ipython",
    "version": 2
   },
   "file_extension": ".py",
   "mimetype": "text/x-python",
   "name": "python",
   "nbconvert_exporter": "python",
   "pygments_lexer": "ipython2",
   "version": "2.7.6"
  }
 },
 "nbformat": 4,
 "nbformat_minor": 5
}
