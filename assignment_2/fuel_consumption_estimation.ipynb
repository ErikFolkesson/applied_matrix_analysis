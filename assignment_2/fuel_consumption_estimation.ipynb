{
 "cells": [
  {
   "metadata": {
    "ExecuteTime": {
     "end_time": "2025-01-17T10:45:03.703976Z",
     "start_time": "2025-01-17T10:45:03.245837Z"
    }
   },
   "cell_type": "code",
   "source": [
    "import numpy as np\n",
    "import matplotlib.pyplot as plt"
   ],
   "id": "32e218d7c5023fdb",
   "outputs": [],
   "execution_count": 50
  },
  {
   "metadata": {
    "ExecuteTime": {
     "end_time": "2025-01-17T10:10:14.543559Z",
     "start_time": "2025-01-17T10:10:14.538417Z"
    }
   },
   "cell_type": "code",
   "source": [
    "# make sure prints only print the first 3 decimals\n",
    "np.set_printoptions(precision=3)"
   ],
   "id": "ac2a7600ad7203c5",
   "outputs": [],
   "execution_count": 12
  },
  {
   "metadata": {},
   "cell_type": "markdown",
   "source": "# a) ",
   "id": "399366ea621fa478"
  },
  {
   "cell_type": "code",
   "id": "initial_id",
   "metadata": {
    "collapsed": true,
    "ExecuteTime": {
     "end_time": "2025-01-17T10:22:54.321825Z",
     "start_time": "2025-01-17T10:22:54.315379Z"
    }
   },
   "source": [
    "A_a = np.array([\n",
    "    [1, 10, 10**2, 10**3],\n",
    "    [1, 25, 25**2, 25**3],\n",
    "    [1, 40, 40**2, 40**3],\n",
    "    [1, 55, 55**2, 55**3],\n",
    "    [1, 70, 70**2, 70**3],\n",
    "    [1, 90, 90**2, 90**3],\n",
    "    [1, 105, 105**2, 105**3],\n",
    "    [1, 120, 120**2, 120**3]\n",
    "])\n",
    "\n",
    "y_a = np.array([\n",
    "    [2.2],\n",
    "    [1.5],\n",
    "    [0.83],\n",
    "    [0.81],\n",
    "    [0.78],\n",
    "    [0.75],\n",
    "    [0.87],\n",
    "    [0.99]\n",
    "])"
   ],
   "outputs": [],
   "execution_count": 40
  },
  {
   "metadata": {
    "ExecuteTime": {
     "end_time": "2025-01-17T10:46:51.547459Z",
     "start_time": "2025-01-17T10:46:51.542376Z"
    }
   },
   "cell_type": "code",
   "source": [
    "# Solve the least squares problem\n",
    "x_estimated_a = np.linalg.lstsq(A_a, y_a, rcond=None)\n",
    "coefficients_a = x_estimated_a[0]\n",
    "print(coefficients_a)"
   ],
   "id": "5997914f3d6ef31f",
   "outputs": [
    {
     "name": "stdout",
     "output_type": "stream",
     "text": [
      "[[ 2.916e+00]\n",
      " [-8.002e-02]\n",
      " [ 9.149e-04]\n",
      " [-3.195e-06]]\n"
     ]
    }
   ],
   "execution_count": 54
  },
  {
   "metadata": {},
   "cell_type": "markdown",
   "source": "# b)",
   "id": "564d0be1b889292d"
  },
  {
   "metadata": {
    "ExecuteTime": {
     "end_time": "2025-01-17T11:15:49.503871Z",
     "start_time": "2025-01-17T11:15:49.499069Z"
    }
   },
   "cell_type": "code",
   "source": [
    "B_b = np.array([\n",
    "    [1, 10, 10**2, 10**3],\n",
    "    [1, 25, 25**2, 25**3],\n",
    "    [1, 40, 40**2, 40**3],\n",
    "    [1, 55, 55**2, 55**3],\n",
    "    [1, 70, 70**2, 70**3],\n",
    "    [1, 90, 90**2, 90**3],\n",
    "    [1, 105, 105**2, 105**3],\n",
    "    [1, 120, 120**2, 120**3]\n",
    "])\n",
    "\n",
    "y_b = np.array([\n",
    "    [2.2],\n",
    "    [3.75],\n",
    "    [3.32],\n",
    "    [4.455],\n",
    "    [5.46],\n",
    "    [6.75],\n",
    "    [9.135],\n",
    "    [11.88]\n",
    "])"
   ],
   "id": "ed34451485ad230c",
   "outputs": [],
   "execution_count": 112
  },
  {
   "metadata": {
    "ExecuteTime": {
     "end_time": "2025-01-17T11:15:51.117746Z",
     "start_time": "2025-01-17T11:15:51.111585Z"
    }
   },
   "cell_type": "code",
   "source": [
    "# Solve the least squares problem\n",
    "x_estimated_b = np.linalg.lstsq(B_b, y_b, rcond=None)\n",
    "coefficients_b = x_estimated_b[0]\n",
    "print(coefficients_b)"
   ],
   "id": "acd85da7e20dc288",
   "outputs": [
    {
     "name": "stdout",
     "output_type": "stream",
     "text": [
      "[[ 1.572e+00]\n",
      " [ 9.128e-02]\n",
      " [-1.280e-03]\n",
      " [ 1.032e-05]]\n"
     ]
    }
   ],
   "execution_count": 113
  },
  {
   "metadata": {},
   "cell_type": "markdown",
   "source": "# c)",
   "id": "e0dcd6c4bfef7081"
  },
  {
   "metadata": {
    "ExecuteTime": {
     "end_time": "2025-01-17T11:15:58.769380Z",
     "start_time": "2025-01-17T11:15:58.764194Z"
    }
   },
   "cell_type": "code",
   "source": [
    "def polynomial_function_a(coefficients, velocity):\n",
    "    return coefficients[0] + coefficients[1] * velocity + coefficients[2] * velocity**2 + coefficients[3] * velocity**3\n",
    "\n",
    "def polynomial_function_b(coefficients, velocity):\n",
    "    estimate = coefficients[0] + coefficients[1] * velocity + coefficients[2] * velocity**2 + coefficients[3] * velocity**3\n",
    "    \n",
    "    return estimate / velocity * 10"
   ],
   "id": "95293e47e74ad408",
   "outputs": [],
   "execution_count": 115
  },
  {
   "metadata": {
    "ExecuteTime": {
     "end_time": "2025-01-17T11:15:59.232381Z",
     "start_time": "2025-01-17T11:15:59.227026Z"
    }
   },
   "cell_type": "code",
   "source": [
    "# Define the vectors for velocity and fuel consumption\n",
    "original_velocity = np.array([10, 25, 40, 55, 70, 90, 105, 120])\n",
    "original_fuel = np.array([2.2, 1.5, 0.83, 0.81, 0.78, 0.75, 0.87, 0.99])"
   ],
   "id": "c0134af602c6064f",
   "outputs": [],
   "execution_count": 116
  },
  {
   "metadata": {
    "ExecuteTime": {
     "end_time": "2025-01-17T11:15:59.706504Z",
     "start_time": "2025-01-17T11:15:59.701010Z"
    }
   },
   "cell_type": "code",
   "source": [
    "# Generate a range of velocities for plotting the polynomial lines\n",
    "velocity_range = np.linspace(10, 140, 500)\n",
    "\n",
    "# Calculate the fuel consumption for each polynomial\n",
    "fuel_consumption_a = polynomial_function_a(coefficients_a, velocity_range)\n",
    "fuel_consumption_b = polynomial_function_b(coefficients_b, velocity_range)"
   ],
   "id": "89b1c947b47eff0a",
   "outputs": [],
   "execution_count": 117
  },
  {
   "metadata": {
    "ExecuteTime": {
     "end_time": "2025-01-17T11:16:00.524538Z",
     "start_time": "2025-01-17T11:16:00.303948Z"
    }
   },
   "cell_type": "code",
   "source": [
    "# Create a scatter plot\n",
    "plt.scatter(original_velocity, original_fuel, color='blue', label='Original Data')\n",
    "\n",
    "# Plot the polynomial lines\n",
    "plt.plot(velocity_range, fuel_consumption_a, color='red', label='Polynomial A')\n",
    "plt.plot(velocity_range, fuel_consumption_b, color='green', label='Polynomial B')\n",
    "\n",
    "# Show the updated plot with the polynomial lines\n",
    "plt.legend()\n",
    "\n",
    "# Add labels and title\n",
    "plt.xlabel('Velocity (km/h)')\n",
    "plt.ylabel('Fuel Consumption (l/10km)')\n",
    "plt.title('Fuel Consumption vs. Velocity')\n",
    "plt.legend()\n",
    "\n",
    "# Show the plot\n",
    "plt.show()"
   ],
   "id": "d49a7d643d4b378",
   "outputs": [
    {
     "data": {
      "text/plain": [
       "<Figure size 640x480 with 1 Axes>"
      ],
      "image/png": "[encoded data removed]"
     },
     "metadata": {},
     "output_type": "display_data"
    }
   ],
   "execution_count": 118
  },
  {
   "metadata": {},
   "cell_type": "markdown",
   "source": "# d) ",
   "id": "881ed8a2076a678f"
  },
  {
   "metadata": {
    "ExecuteTime": {
     "end_time": "2025-01-17T11:27:10.372628Z",
     "start_time": "2025-01-17T11:27:10.366378Z"
    }
   },
   "cell_type": "code",
   "source": [
    "# Calculate the predicted values for both models\n",
    "predicted_a = polynomial_function_a(coefficients_a, original_velocity)\n",
    "predicted_b = polynomial_function_b(coefficients_b, original_velocity)\n",
    "\n",
    "# Calculate the residuals for both models\n",
    "residuals_a = y_a.flatten() - predicted_a\n",
    "residuals_b = y_a.flatten() - predicted_b\n",
    "\n",
    "# Compute the norm of the residuals\n",
    "residual_norm_a = np.linalg.norm(residuals_a)**2\n",
    "residual_norm_b = np.linalg.norm(residuals_b)**2\n",
    "\n",
    "print(f'Residual norm of model A: {residual_norm_a}')\n",
    "print(f'Residual norm of model B: {residual_norm_b}')"
   ],
   "id": "f2a30798d6ed6271",
   "outputs": [
    {
     "name": "stdout",
     "output_type": "stream",
     "text": [
      "Residual norm of model A: 0.03809110217541794\n",
      "Residual norm of model B: 0.09206066763037121\n"
     ]
    }
   ],
   "execution_count": 139
  },
  {
   "metadata": {},
   "cell_type": "markdown",
   "source": "# e)",
   "id": "5e713b97d280a28e"
  },
  {
   "metadata": {
    "ExecuteTime": {
     "end_time": "2025-01-17T12:52:20.734738Z",
     "start_time": "2025-01-17T12:52:20.725202Z"
    }
   },
   "cell_type": "code",
   "source": [
    "# Define the data as a dictionary of dictionaries\n",
    "routes = {\n",
    "    'A': {'B': {'speed_limit': 80, 'distance': 60}, \n",
    "          'C': {'speed_limit': 110, 'distance': 100}},\n",
    "    'B': {'C': {'speed_limit': 80, 'distance': 50},\n",
    "          'D': {'speed_limit': 70, 'distance': 100}},\n",
    "    'C': {'D': {'speed_limit': 90, 'distance': 40}}\n",
    "}\n",
    "\n",
    "# Calculate travel time for each option\n",
    "for start, destinations in routes.items():\n",
    "    for end, data in destinations.items():\n",
    "        speed_limit = data['speed_limit']\n",
    "        distance = data['distance']\n",
    "        travel_time_hours = distance / speed_limit  # Time in hours\n",
    "        travel_time_minutes = travel_time_hours * 60  # Time in minutes\n",
    "        print(f\"{start} -> {end}: {travel_time_hours:.2f} hours ({travel_time_minutes:.2f} minutes)\")"
   ],
   "id": "56ba59ddd4702733",
   "outputs": [
    {
     "name": "stdout",
     "output_type": "stream",
     "text": [
      "A -> B: 0.75 hours (45.00 minutes)\n",
      "A -> C: 0.91 hours (54.55 minutes)\n",
      "B -> C: 0.62 hours (37.50 minutes)\n",
      "B -> D: 1.43 hours (85.71 minutes)\n",
      "C -> D: 0.44 hours (26.67 minutes)\n"
     ]
    }
   ],
   "execution_count": 142
  },
  {
   "metadata": {
    "ExecuteTime": {
     "end_time": "2025-01-17T12:53:52.987943Z",
     "start_time": "2025-01-17T12:53:52.980430Z"
    }
   },
   "cell_type": "code",
   "source": [
    "# Define a function to calculate fuel consumption for a given distance and speed limit\n",
    "def calculate_fuel_consumption(coefficients, speed_limit, distance):\n",
    "    fuel_consumption_per_10km = polynomial_function_a(coefficients, speed_limit)\n",
    "    fuel_consumption = (distance / 10) * fuel_consumption_per_10km\n",
    "    return fuel_consumption.item()\n",
    "\n",
    "# Calculate fuel consumption for each route\n",
    "for start, destinations in routes.items():\n",
    "    for end, data in destinations.items():\n",
    "        speed_limit = data['speed_limit']\n",
    "        distance = data['distance']\n",
    "        fuel_consumption = calculate_fuel_consumption(coefficients_a, speed_limit, distance)\n",
    "        print(f\"{start} -> {end}: {fuel_consumption:.2f} liters\")"
   ],
   "id": "101a58459d84d8f0",
   "outputs": [
    {
     "name": "stdout",
     "output_type": "stream",
     "text": [
      "A -> B: 4.40 liters\n",
      "A -> C: 9.31 liters\n",
      "B -> C: 3.67 liters\n",
      "B -> D: 7.01 liters\n",
      "C -> D: 3.18 liters\n"
     ]
    }
   ],
   "execution_count": 144
  },
  {
   "metadata": {
    "ExecuteTime": {
     "end_time": "2025-01-17T12:59:16.860268Z",
     "start_time": "2025-01-17T12:59:16.846010Z"
    }
   },
   "cell_type": "code",
   "source": [
    "# Define the distance matrix for travel time\n",
    "distance_matrix = np.array([\n",
    "    [0, 0.75, 0.91, 0],\n",
    "    [0, 0, 0.62, 1.43],\n",
    "    [0, 0, 0, 0.44],\n",
    "    [0, 0, 0, 0]\n",
    "])\n",
    "\n",
    "print(distance_matrix)"
   ],
   "id": "b0517ef6975db7d7",
   "outputs": [
    {
     "name": "stdout",
     "output_type": "stream",
     "text": [
      "[[0.   0.75 0.91 0.  ]\n",
      " [0.   0.   0.62 1.43]\n",
      " [0.   0.   0.   0.44]\n",
      " [0.   0.   0.   0.  ]]\n"
     ]
    }
   ],
   "execution_count": 145
  },
  {
   "metadata": {
    "ExecuteTime": {
     "end_time": "2025-01-17T13:00:13.220115Z",
     "start_time": "2025-01-17T13:00:11.741893Z"
    }
   },
   "cell_type": "code",
   "source": [
    "import networkx as nx\n",
    "\n",
    "# Create a directed graph\n",
    "G = nx.DiGraph()"
   ],
   "id": "d804aaf29b1b3853",
   "outputs": [],
   "execution_count": 146
  },
  {
   "metadata": {
    "ExecuteTime": {
     "end_time": "2025-01-17T13:03:45.436295Z",
     "start_time": "2025-01-17T13:03:45.430330Z"
    }
   },
   "cell_type": "code",
   "source": [
    "# Add edges to the graph\n",
    "nodes = ['A', 'B', 'C', 'D']\n",
    "for i, start in enumerate(nodes):\n",
    "    for j, end in enumerate(nodes):\n",
    "        if distance_matrix[i, j] > 0:\n",
    "            G.add_edge(start, end, weight=distance_matrix[i, j])\n",
    "\n",
    "# Use Dijkstra's algorithm to find the shortest path from node 'A' to 'D'\n",
    "start_node = 'A'\n",
    "end_node = 'D'\n",
    "length, path = nx.single_source_dijkstra(G, start_node, end_node)\n",
    "\n",
    "print(f\"Shortest path from {start_node} to {end_node}: {path}\")\n",
    "print(f\"Total travel time: {length:.2f} hours\")"
   ],
   "id": "e6d52c96b6d1a4cf",
   "outputs": [
    {
     "name": "stdout",
     "output_type": "stream",
     "text": [
      "Shortest path from A to D: ['A', 'C', 'D']\n",
      "Total travel time: 1.35 hours\n"
     ]
    }
   ],
   "execution_count": 151
  },
  {
   "metadata": {
    "ExecuteTime": {
     "end_time": "2025-01-17T13:03:50.804838Z",
     "start_time": "2025-01-17T13:03:50.790878Z"
    }
   },
   "cell_type": "code",
   "source": [
    "# Initialize the distance matrix for fuel consumption\n",
    "fuel_consumption_matrix = np.zeros((4, 4))\n",
    "\n",
    "# Populate the matrix using the routes data\n",
    "nodes = ['A', 'B', 'C', 'D']\n",
    "for i, start in enumerate(nodes):\n",
    "    for j, end in enumerate(nodes):\n",
    "        if start in routes and end in routes[start]:\n",
    "            data = routes[start][end]\n",
    "            speed_limit = data['speed_limit']\n",
    "            distance = data['distance']\n",
    "            fuel_consumption_matrix[i, j] = calculate_fuel_consumption(coefficients_a, speed_limit, distance)\n",
    "\n",
    "print(fuel_consumption_matrix)"
   ],
   "id": "16f5c4346aace633",
   "outputs": [
    {
     "name": "stdout",
     "output_type": "stream",
     "text": [
      "[[0.    4.401 9.309 0.   ]\n",
      " [0.    0.    3.667 7.013]\n",
      " [0.    0.    0.    3.181]\n",
      " [0.    0.    0.    0.   ]]\n"
     ]
    }
   ],
   "execution_count": 152
  },
  {
   "metadata": {
    "ExecuteTime": {
     "end_time": "2025-01-17T13:07:34.966803Z",
     "start_time": "2025-01-17T13:07:34.960112Z"
    }
   },
   "cell_type": "code",
   "source": [
    "# Create a directed graph\n",
    "H = nx.DiGraph()\n",
    "\n",
    "# Add edges to the graph\n",
    "nodes = ['A', 'B', 'C', 'D']\n",
    "for i, start in enumerate(nodes):\n",
    "    for j, end in enumerate(nodes):\n",
    "        if fuel_consumption_matrix[i, j] > 0:\n",
    "            H.add_edge(start, end, weight=fuel_consumption_matrix[i, j])\n",
    "\n",
    "# Use Dijkstra's algorithm to find the most fuel efficient path from node 'A' to 'D'\n",
    "start_node = 'A'\n",
    "end_node = 'D'\n",
    "length, path = nx.single_source_dijkstra(H, start_node, end_node)\n",
    "\n",
    "print(f\"Shortest path from {start_node} to {end_node}: {path}\")\n",
    "print(f\"Total fuel: {length:.2f} liters\")"
   ],
   "id": "b5052337adaa4f9a",
   "outputs": [
    {
     "name": "stdout",
     "output_type": "stream",
     "text": [
      "Shortest path from A to D: ['A', 'B', 'C', 'D']\n",
      "Total fuel: 11.25 liters\n"
     ]
    }
   ],
   "execution_count": 157
  }
 ],
 "metadata": {
  "kernelspec": {
   "display_name": "Python 3",
   "language": "python",
   "name": "python3"
  },
  "language_info": {
   "codemirror_mode": {
    "name": "ipython",
    "version": 2
   },
   "file_extension": ".py",
   "mimetype": "text/x-python",
   "name": "python",
   "nbconvert_exporter": "python",
   "pygments_lexer": "ipython2",
   "version": "2.7.6"
  }
 },
 "nbformat": 4,
 "nbformat_minor": 5
}
