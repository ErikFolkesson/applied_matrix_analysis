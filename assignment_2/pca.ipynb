{
 "cells": [
  {
   "cell_type": "code",
   "id": "initial_id",
   "metadata": {
    "collapsed": true,
    "ExecuteTime": {
     "end_time": "2025-01-17T08:47:50.571308Z",
     "start_time": "2025-01-17T08:47:50.203326Z"
    }
   },
   "source": "import numpy as np",
   "outputs": [],
   "execution_count": 1
  },
  {
   "metadata": {
    "ExecuteTime": {
     "end_time": "2025-01-17T08:47:50.588333Z",
     "start_time": "2025-01-17T08:47:50.580434Z"
    }
   },
   "cell_type": "code",
   "source": [
    "x = np.array([-4, 3, -1, 1, 3, 4])\n",
    "y = np.array([2, 1, 1, -1, -1, -2]) \n",
    "\n",
    "data = np.array([x, y]).T\n",
    "print(data)"
   ],
   "id": "68830507ced5f95b",
   "outputs": [
    {
     "name": "stdout",
     "output_type": "stream",
     "text": [
      "[[-4  2]\n",
      " [ 3  1]\n",
      " [-1  1]\n",
      " [ 1 -1]\n",
      " [ 3 -1]\n",
      " [ 4 -2]]\n"
     ]
    }
   ],
   "execution_count": 2
  },
  {
   "metadata": {
    "ExecuteTime": {
     "end_time": "2025-01-17T08:47:50.705469Z",
     "start_time": "2025-01-17T08:47:50.695437Z"
    }
   },
   "cell_type": "code",
   "source": [
    "mean = np.mean(data, axis=0, keepdims=True)\n",
    "\n",
    "mean"
   ],
   "id": "29372d36a933f7a1",
   "outputs": [
    {
     "data": {
      "text/plain": [
       "array([[1., 0.]])"
      ]
     },
     "execution_count": 3,
     "metadata": {},
     "output_type": "execute_result"
    }
   ],
   "execution_count": 3
  },
  {
   "metadata": {
    "ExecuteTime": {
     "end_time": "2025-01-17T08:47:51.501774Z",
     "start_time": "2025-01-17T08:47:51.495299Z"
    }
   },
   "cell_type": "code",
   "source": [
    "# create a 6x1 matrix with ones\n",
    "ones = np.ones((6, 1))\n",
    "\n",
    "mean_vector = mean * ones\n",
    "mean_vector"
   ],
   "id": "3ec6e2c5b876784a",
   "outputs": [
    {
     "data": {
      "text/plain": [
       "array([[1., 0.],\n",
       "       [1., 0.],\n",
       "       [1., 0.],\n",
       "       [1., 0.],\n",
       "       [1., 0.],\n",
       "       [1., 0.]])"
      ]
     },
     "execution_count": 4,
     "metadata": {},
     "output_type": "execute_result"
    }
   ],
   "execution_count": 4
  },
  {
   "metadata": {
    "ExecuteTime": {
     "end_time": "2025-01-17T08:48:08.406702Z",
     "start_time": "2025-01-17T08:48:08.396002Z"
    }
   },
   "cell_type": "code",
   "source": [
    "# subtract the mean from the data\n",
    "data_centered = data - mean_vector\n",
    "data_centered"
   ],
   "id": "5993646c6232be5d",
   "outputs": [
    {
     "data": {
      "text/plain": [
       "array([[-5.,  2.],\n",
       "       [ 2.,  1.],\n",
       "       [-2.,  1.],\n",
       "       [ 0., -1.],\n",
       "       [ 2., -1.],\n",
       "       [ 3., -2.]])"
      ]
     },
     "execution_count": 5,
     "metadata": {},
     "output_type": "execute_result"
    }
   ],
   "execution_count": 5
  },
  {
   "metadata": {
    "ExecuteTime": {
     "end_time": "2025-01-17T08:50:09.400704Z",
     "start_time": "2025-01-17T08:50:09.394995Z"
    }
   },
   "cell_type": "code",
   "source": [
    "# calculate the covariance matrix\n",
    "# we need to transpose the data because np.cov expects the data to be in the form of rows \n",
    "# and we have it in the form of columns\n",
    "cov_matrix = np.cov(data_centered.T)\n",
    "cov_matrix"
   ],
   "id": "7a502bfb6ef7fbc8",
   "outputs": [
    {
     "data": {
      "text/plain": [
       "array([[ 9.2, -3.6],\n",
       "       [-3.6,  2.4]])"
      ]
     },
     "execution_count": 11,
     "metadata": {},
     "output_type": "execute_result"
    }
   ],
   "execution_count": 11
  },
  {
   "metadata": {
    "ExecuteTime": {
     "end_time": "2025-01-17T09:18:59.476702Z",
     "start_time": "2025-01-17T09:18:59.459210Z"
    }
   },
   "cell_type": "code",
   "source": [
    "# Eigendecomposition of covariance matrix\n",
    "eig_vals, eig_vecs = np.linalg.eig(cov_matrix) \n",
    "\n",
    "print('Eigenvectors \\n%s' %eig_vecs)\n",
    "print('\\nEigenvalues \\n%s' %eig_vals)"
   ],
   "id": "fd5728ff0b625b8a",
   "outputs": [
    {
     "name": "stdout",
     "output_type": "stream",
     "text": [
      "Eigenvectors \n",
      "[[ 0.91832008  0.39583865]\n",
      " [-0.39583865  0.91832008]]\n",
      "\n",
      "Eigenvalues \n",
      "[10.75176736  0.84823264]\n"
     ]
    }
   ],
   "execution_count": 13
  },
  {
   "metadata": {
    "ExecuteTime": {
     "end_time": "2025-01-17T09:27:52.201966Z",
     "start_time": "2025-01-17T09:27:52.194535Z"
    }
   },
   "cell_type": "code",
   "source": "eig_vals[0]",
   "id": "1a5b98f020316855",
   "outputs": [
    {
     "data": {
      "text/plain": [
       "10.75176736125598"
      ]
     },
     "execution_count": 20,
     "metadata": {},
     "output_type": "execute_result"
    }
   ],
   "execution_count": 20
  },
  {
   "metadata": {
    "ExecuteTime": {
     "end_time": "2025-01-17T09:28:17.777034Z",
     "start_time": "2025-01-17T09:28:17.770487Z"
    }
   },
   "cell_type": "code",
   "source": "eig_vecs[:, 0]",
   "id": "8f0dd8f2697841e7",
   "outputs": [
    {
     "data": {
      "text/plain": [
       "array([ 0.91832008, -0.39583865])"
      ]
     },
     "execution_count": 23,
     "metadata": {},
     "output_type": "execute_result"
    }
   ],
   "execution_count": 23
  },
  {
   "metadata": {
    "ExecuteTime": {
     "end_time": "2025-01-17T09:28:20.371835Z",
     "start_time": "2025-01-17T09:28:20.365114Z"
    }
   },
   "cell_type": "code",
   "source": [
    "principal_eigenvector = eig_vecs[:, 0]\n",
    "principal_eigenvector"
   ],
   "id": "d5f884f72fd72dd4",
   "outputs": [
    {
     "data": {
      "text/plain": [
       "array([ 0.91832008, -0.39583865])"
      ]
     },
     "execution_count": 24,
     "metadata": {},
     "output_type": "execute_result"
    }
   ],
   "execution_count": 24
  },
  {
   "metadata": {
    "ExecuteTime": {
     "end_time": "2025-01-17T09:28:28.854623Z",
     "start_time": "2025-01-17T09:28:28.842359Z"
    }
   },
   "cell_type": "code",
   "source": [
    "# Project the centered data onto the principal component\n",
    "principal_component = data_centered.dot(principal_eigenvector)"
   ],
   "id": "beff2263aa7662a7",
   "outputs": [],
   "execution_count": 25
  },
  {
   "metadata": {
    "ExecuteTime": {
     "end_time": "2025-01-17T09:28:33.878241Z",
     "start_time": "2025-01-17T09:28:33.873496Z"
    }
   },
   "cell_type": "code",
   "source": "principal_component",
   "id": "d94825effde130c9",
   "outputs": [
    {
     "data": {
      "text/plain": [
       "array([-5.38327768,  1.44080151, -2.2324788 ,  0.39583865,  2.2324788 ,\n",
       "        3.54663753])"
      ]
     },
     "execution_count": 26,
     "metadata": {},
     "output_type": "execute_result"
    }
   ],
   "execution_count": 26
  },
  {
   "metadata": {
    "ExecuteTime": {
     "end_time": "2025-01-17T09:39:39.375042Z",
     "start_time": "2025-01-17T09:39:39.162163Z"
    }
   },
   "cell_type": "code",
   "source": [
    "import matplotlib.pyplot as plt\n",
    "\n",
    "# Plot the original data\n",
    "plt.scatter(data[:, 0], data[:, 1], color='blue', label='Original Data')\n",
    "\n",
    "# Plot the principal component vector\n",
    "# plt.quiver(mean[0, 0], mean[0, 1], principal_eigenvector[0], principal_eigenvector[1], scale=5, color='red', label='Principal Component')\n",
    "\n",
    "# Plot the projections of the data onto the principal component\n",
    "for i in range(data_centered.shape[0]):\n",
    "    plt.plot([data[i, 0], mean[0, 0] + principal_component[i] * principal_eigenvector[0]],\n",
    "             [data[i, 1], mean[0, 1] + principal_component[i] * principal_eigenvector[1]],\n",
    "             'k--')\n",
    "    \n",
    "    \n",
    "# Draw the line which the data is projected onto\n",
    "line_start = mean[0] - 6 * principal_eigenvector\n",
    "line_end = mean[0] + 5 * principal_eigenvector\n",
    "plt.plot([line_start[0], line_end[0]], [line_start[1], line_end[1]], 'g-', label='Projection Line')\n",
    "\n",
    "plt.xlabel('X')\n",
    "plt.ylabel('Y')\n",
    "plt.legend()\n",
    "plt.title('PCA Result with Principal Components')\n",
    "plt.grid(True)\n",
    "plt.show()"
   ],
   "id": "68781a93239478e8",
   "outputs": [
    {
     "data": {
      "text/plain": [
       "<Figure size 640x480 with 1 Axes>"
      ],
      "image/png": "[encoded data removed]"
     },
     "metadata": {},
     "output_type": "display_data"
    }
   ],
   "execution_count": 40
  },
  {
   "metadata": {
    "ExecuteTime": {
     "end_time": "2025-01-17T09:36:09.541675Z",
     "start_time": "2025-01-17T09:36:09.534847Z"
    }
   },
   "cell_type": "code",
   "source": [
    "# calculate the slope of the line\n",
    "slope = principal_eigenvector[1] / principal_eigenvector[0]\n",
    "slope"
   ],
   "id": "1e37bb991d4c0b97",
   "outputs": [
    {
     "data": {
      "text/plain": [
       "-0.43104648923777183"
      ]
     },
     "execution_count": 37,
     "metadata": {},
     "output_type": "execute_result"
    }
   ],
   "execution_count": 37
  },
  {
   "metadata": {},
   "cell_type": "code",
   "outputs": [],
   "execution_count": null,
   "source": "",
   "id": "9beeaf95caab08cc"
  }
 ],
 "metadata": {
  "kernelspec": {
   "display_name": "Python 3",
   "language": "python",
   "name": "python3"
  },
  "language_info": {
   "codemirror_mode": {
    "name": "ipython",
    "version": 2
   },
   "file_extension": ".py",
   "mimetype": "text/x-python",
   "name": "python",
   "nbconvert_exporter": "python",
   "pygments_lexer": "ipython2",
   "version": "2.7.6"
  }
 },
 "nbformat": 4,
 "nbformat_minor": 5
}
