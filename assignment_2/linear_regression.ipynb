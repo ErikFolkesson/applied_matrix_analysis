{
 "cells": [
  {
   "metadata": {
    "ExecuteTime": {
     "end_time": "2025-01-16T10:26:29.442821Z",
     "start_time": "2025-01-16T10:26:28.451408Z"
    }
   },
   "cell_type": "code",
   "source": [
    "import numpy as np\n",
    "import matplotlib.pyplot as plt"
   ],
   "id": "e6e1fb35c7d3079d",
   "outputs": [],
   "execution_count": 1
  },
  {
   "metadata": {},
   "cell_type": "markdown",
   "source": "# a)",
   "id": "375bcfdf8c733ab"
  },
  {
   "metadata": {
    "ExecuteTime": {
     "end_time": "2025-01-16T10:26:29.523957Z",
     "start_time": "2025-01-16T10:26:29.518801Z"
    }
   },
   "cell_type": "code",
   "source": [
    "# Define matrix A\n",
    "A_a = np.array([[1, 1],\n",
    "              [1, 3],\n",
    "              [1, 4],\n",
    "              [1, 5]])\n",
    "\n",
    "# Define vector y\n",
    "y_a = np.array([4, 2, -1, -3])"
   ],
   "id": "ffb99cfb21b90e42",
   "outputs": [],
   "execution_count": 2
  },
  {
   "metadata": {
    "ExecuteTime": {
     "end_time": "2025-01-16T10:26:29.611761Z",
     "start_time": "2025-01-16T10:26:29.607600Z"
    }
   },
   "cell_type": "code",
   "source": [
    "# Calculate the normal equation\n",
    "A_a_transpose = A_a.T\n",
    "\n",
    "A_a_transpose_A_a = A_a_transpose @ A_a\n",
    "A_a_transpose_y_a = A_a_transpose @ y_a"
   ],
   "id": "5b1d57c09e3d259a",
   "outputs": [],
   "execution_count": 3
  },
  {
   "metadata": {
    "ExecuteTime": {
     "end_time": "2025-01-16T10:26:29.636942Z",
     "start_time": "2025-01-16T10:26:29.627942Z"
    }
   },
   "cell_type": "code",
   "source": "A_a_transpose_A_a",
   "id": "38cdb0ca5aaf369f",
   "outputs": [
    {
     "data": {
      "text/plain": [
       "array([[ 4, 13],\n",
       "       [13, 51]])"
      ]
     },
     "execution_count": 4,
     "metadata": {},
     "output_type": "execute_result"
    }
   ],
   "execution_count": 4
  },
  {
   "metadata": {
    "ExecuteTime": {
     "end_time": "2025-01-16T10:26:30.144282Z",
     "start_time": "2025-01-16T10:26:30.138073Z"
    }
   },
   "cell_type": "code",
   "source": "A_a_transpose_y_a",
   "id": "eafab1056f162ec",
   "outputs": [
    {
     "data": {
      "text/plain": [
       "array([ 2, -9])"
      ]
     },
     "execution_count": 5,
     "metadata": {},
     "output_type": "execute_result"
    }
   ],
   "execution_count": 5
  },
  {
   "metadata": {
    "ExecuteTime": {
     "end_time": "2025-01-16T10:26:30.209900Z",
     "start_time": "2025-01-16T10:26:30.205144Z"
    }
   },
   "cell_type": "code",
   "source": [
    "r_a = np.linalg.solve(A_a_transpose_A_a, A_a_transpose_y_a)\n",
    "\n",
    "# Extract a and b from the solution\n",
    "b_a = r_a[0]\n",
    "a_a = r_a[1]"
   ],
   "id": "2874c8282cd13be0",
   "outputs": [],
   "execution_count": 6
  },
  {
   "metadata": {
    "ExecuteTime": {
     "end_time": "2025-01-16T10:26:30.312792Z",
     "start_time": "2025-01-16T10:26:30.306790Z"
    }
   },
   "cell_type": "code",
   "source": [
    "# Calculate predicted y values\n",
    "y_pred_a = A_a @ r_a\n",
    "\n",
    "# Calculate residual error\n",
    "residual_error_a = y_a - y_pred_a\n",
    "\n",
    "# Calculate the estimation error (L2-norm)\n",
    "estimation_error_a = np.linalg.norm(residual_error_a)"
   ],
   "id": "543fbf5dba8a74b8",
   "outputs": [],
   "execution_count": 7
  },
  {
   "metadata": {
    "ExecuteTime": {
     "end_time": "2025-01-16T10:26:30.352632Z",
     "start_time": "2025-01-16T10:26:30.347273Z"
    }
   },
   "cell_type": "code",
   "source": [
    "# Print the results\n",
    "print(\"The estimated values of r are:\")\n",
    "print(\"b =\", b_a)\n",
    "print(\"a =\", a_a)\n",
    "print(\"Estimation error:\", estimation_error_a)"
   ],
   "id": "1b8d56e90a381cc5",
   "outputs": [
    {
     "name": "stdout",
     "output_type": "stream",
     "text": [
      "The estimated values of r are:\n",
      "b = 6.257142857142854\n",
      "a = -1.7714285714285707\n",
      "Estimation error: 1.2421180068162376\n"
     ]
    }
   ],
   "execution_count": 8
  },
  {
   "metadata": {},
   "cell_type": "markdown",
   "source": "# b)",
   "id": "5e0baaf0b966de3e"
  },
  {
   "metadata": {
    "ExecuteTime": {
     "end_time": "2025-01-16T10:26:30.397689Z",
     "start_time": "2025-01-16T10:26:30.393360Z"
    }
   },
   "cell_type": "code",
   "source": [
    "# Define matrix B\n",
    "B_b = np.array([[1, 4],\n",
    "              [1, 4],\n",
    "              [1, -1],\n",
    "              [1, -3]])\n",
    "\n",
    "# Define vector x\n",
    "x_b = np.array([1, 3, 4, 5])"
   ],
   "id": "9438fec695383f21",
   "outputs": [],
   "execution_count": 9
  },
  {
   "metadata": {
    "ExecuteTime": {
     "end_time": "2025-01-16T10:26:30.413573Z",
     "start_time": "2025-01-16T10:26:30.409637Z"
    }
   },
   "cell_type": "code",
   "source": [
    "# Calculate the least squares solution\n",
    "r_b = np.linalg.lstsq(B_b, x_b, rcond=None)[0]\n",
    "\n",
    "# Extract c and d from the solution\n",
    "d_b = r_b[0]\n",
    "c_b = r_b[1]"
   ],
   "id": "7f9357375dda8b7e",
   "outputs": [],
   "execution_count": 10
  },
  {
   "metadata": {
    "ExecuteTime": {
     "end_time": "2025-01-16T10:26:30.429663Z",
     "start_time": "2025-01-16T10:26:30.424830Z"
    }
   },
   "cell_type": "code",
   "source": [
    "# Calculate predicted y values\n",
    "x_pred_b = B_b @ r_b\n",
    "\n",
    "# Calculate residual error\n",
    "residual_error_b = x_b - x_pred_b\n",
    "\n",
    "# Calculate the estimation error (L2-norm)\n",
    "estimation_error_b = np.linalg.norm(residual_error_b)"
   ],
   "id": "fc4911ed520136e3",
   "outputs": [],
   "execution_count": 11
  },
  {
   "metadata": {
    "ExecuteTime": {
     "end_time": "2025-01-16T10:26:30.445566Z",
     "start_time": "2025-01-16T10:26:30.441628Z"
    }
   },
   "cell_type": "code",
   "source": [
    "# Print the results\n",
    "print(\"The estimated values of r are:\")\n",
    "print(\"d =\", d_b)\n",
    "print(\"c =\", c_b)\n",
    "print(\"Estimation error:\", estimation_error_b)"
   ],
   "id": "714aa69a6969b837",
   "outputs": [
    {
     "name": "stdout",
     "output_type": "stream",
     "text": [
      "The estimated values of r are:\n",
      "d = 3.671052631578947\n",
      "c = -0.42105263157894735\n",
      "Estimation error: 1.4188579543903759\n"
     ]
    }
   ],
   "execution_count": 12
  },
  {
   "metadata": {},
   "cell_type": "markdown",
   "source": "# c)",
   "id": "ed638dee54ef42fa"
  },
  {
   "metadata": {
    "ExecuteTime": {
     "end_time": "2025-01-16T10:26:30.586215Z",
     "start_time": "2025-01-16T10:26:30.578216Z"
    }
   },
   "cell_type": "code",
   "source": [
    "def estimated_line_a(x):\n",
    "    return a_a * x + b_a"
   ],
   "id": "97873a78181aa0af",
   "outputs": [],
   "execution_count": 13
  },
  {
   "metadata": {
    "ExecuteTime": {
     "end_time": "2025-01-16T10:26:30.641096Z",
     "start_time": "2025-01-16T10:26:30.636459Z"
    }
   },
   "cell_type": "code",
   "source": [
    "def estimated_line_b(x):\n",
    "    return x /c_b - d_b / c_b"
   ],
   "id": "eb5bbfb569227157",
   "outputs": [],
   "execution_count": 14
  },
  {
   "metadata": {
    "ExecuteTime": {
     "end_time": "2025-01-16T10:26:30.712035Z",
     "start_time": "2025-01-16T10:26:30.707176Z"
    }
   },
   "cell_type": "code",
   "source": [
    "# Generate x-values\n",
    "x = np.linspace(0, 5, 100)"
   ],
   "id": "fa1d80599ee727d6",
   "outputs": [],
   "execution_count": 15
  },
  {
   "metadata": {
    "ExecuteTime": {
     "end_time": "2025-01-16T10:26:30.738448Z",
     "start_time": "2025-01-16T10:26:30.734439Z"
    }
   },
   "cell_type": "code",
   "source": [
    "estimated_line_y_a = estimated_line_a(x)\n",
    "estimated_line_y_b = estimated_line_b(x)"
   ],
   "id": "9bda825fceb2b67e",
   "outputs": [],
   "execution_count": 16
  },
  {
   "metadata": {
    "ExecuteTime": {
     "end_time": "2025-01-16T10:26:30.917074Z",
     "start_time": "2025-01-16T10:26:30.752073Z"
    }
   },
   "cell_type": "code",
   "source": [
    "plt.plot(x, estimated_line_y_a, label=\"Estimated line a\")\n",
    "plt.plot(x, estimated_line_y_b, label=\"Estimated line b\")\n",
    "\n",
    "# add the data points found in a)\n",
    "plt.scatter([1, 3, 4, 5], [4, 2, -1, -3], color=\"red\")"
   ],
   "id": "845d8205af488cb9",
   "outputs": [
    {
     "data": {
      "text/plain": [
       "<matplotlib.collections.PathCollection at 0x1f55ed623d0>"
      ]
     },
     "execution_count": 17,
     "metadata": {},
     "output_type": "execute_result"
    },
    {
     "data": {
      "text/plain": [
       "<Figure size 640x480 with 1 Axes>"
      ],
      "image/png": "[encoded data removed]"
     },
     "metadata": {},
     "output_type": "display_data"
    }
   ],
   "execution_count": 17
  },
  {
   "metadata": {},
   "cell_type": "markdown",
   "source": "# d)",
   "id": "cc398ce78806763"
  },
  {
   "metadata": {
    "ExecuteTime": {
     "end_time": "2025-01-16T10:26:30.935098Z",
     "start_time": "2025-01-16T10:26:30.930573Z"
    }
   },
   "cell_type": "code",
   "source": [
    "# Define matrix A for the parabola y = ax^2 + bx + c\n",
    "A_d = np.array([[1, 1, 1**2],\n",
    "              [1, 3, 3**2],\n",
    "              [1, 4, 4**2],\n",
    "              [1, 5, 5**2]])\n",
    "\n",
    "# Define vector y\n",
    "y_d = np.array([4, 2, -1, -3])"
   ],
   "id": "baed44f39d44ce0",
   "outputs": [],
   "execution_count": 18
  },
  {
   "metadata": {
    "ExecuteTime": {
     "end_time": "2025-01-16T10:26:30.954207Z",
     "start_time": "2025-01-16T10:26:30.949295Z"
    }
   },
   "cell_type": "code",
   "source": [
    "# Calculate the least squares solution\n",
    "r_d = np.linalg.lstsq(A_d, y_d, rcond=None)[0]\n",
    "\n",
    "# Extract c, b, and a from the solution\n",
    "c_d = r_d[0]\n",
    "b_d = r_d[1]\n",
    "a_d = r_d[2]"
   ],
   "id": "78ffa6217d188e80",
   "outputs": [],
   "execution_count": 19
  },
  {
   "metadata": {
    "ExecuteTime": {
     "end_time": "2025-01-16T10:26:30.979567Z",
     "start_time": "2025-01-16T10:26:30.975553Z"
    }
   },
   "cell_type": "code",
   "source": [
    "# Calculate predicted y values\n",
    "y_pred_d = A_d @ r_d\n",
    "\n",
    "# Calculate residual error\n",
    "residual_error_d = y_d - y_pred_d\n",
    "\n",
    "# Calculate the estimation error (L2-norm)\n",
    "estimation_error_d = np.linalg.norm(residual_error_d)"
   ],
   "id": "1f98f16353478cc2",
   "outputs": [],
   "execution_count": 20
  },
  {
   "metadata": {
    "ExecuteTime": {
     "end_time": "2025-01-16T10:26:30.989155Z",
     "start_time": "2025-01-16T10:26:30.985281Z"
    }
   },
   "cell_type": "code",
   "source": [
    "# Print the results\n",
    "print(\"The estimated values of r are:\")\n",
    "print(\"c =\", c_d)\n",
    "print(\"b =\", b_d)\n",
    "print(\"a =\", a_d)\n",
    "print(\"Estimation error:\", estimation_error_d)"
   ],
   "id": "262e977ad544adce",
   "outputs": [
    {
     "name": "stdout",
     "output_type": "stream",
     "text": [
      "The estimated values of r are:\n",
      "c = 4.399999999999996\n",
      "b = -0.0409090909090879\n",
      "a = -0.29545454545454597\n",
      "Estimation error: 0.6674238124719144\n"
     ]
    }
   ],
   "execution_count": 21
  },
  {
   "metadata": {
    "ExecuteTime": {
     "end_time": "2025-01-16T10:26:31.038088Z",
     "start_time": "2025-01-16T10:26:31.034807Z"
    }
   },
   "cell_type": "code",
   "source": [
    "def estimated_parabola(x):\n",
    "    return a_d * x**2 + b_d * x + c_d"
   ],
   "id": "48dce94b13b0cb57",
   "outputs": [],
   "execution_count": 22
  },
  {
   "metadata": {
    "ExecuteTime": {
     "end_time": "2025-01-16T10:26:31.049510Z",
     "start_time": "2025-01-16T10:26:31.045596Z"
    }
   },
   "cell_type": "code",
   "source": "estimated_parabola_y = estimated_parabola(x)",
   "id": "ef163c33eb9d2a58",
   "outputs": [],
   "execution_count": 23
  },
  {
   "metadata": {
    "ExecuteTime": {
     "end_time": "2025-01-16T10:26:31.272032Z",
     "start_time": "2025-01-16T10:26:31.066102Z"
    }
   },
   "cell_type": "code",
   "source": [
    "plt.plot(x, estimated_line_y_a, label=\"Estimated line a\")\n",
    "plt.plot(x, estimated_line_y_b, label=\"Estimated line b\")\n",
    "plt.plot(x, estimated_parabola_y, label=\"Estimated parabola\")\n",
    "\n",
    "# add the data points found in a)\n",
    "plt.scatter([1, 3, 4, 5], [4, 2, -1, -3], color=\"red\")\n",
    "\n",
    "# show the labels\n",
    "plt.legend()"
   ],
   "id": "9f78f36da83be9be",
   "outputs": [
    {
     "data": {
      "text/plain": [
       "<matplotlib.legend.Legend at 0x1f55ef6cc90>"
      ]
     },
     "execution_count": 24,
     "metadata": {},
     "output_type": "execute_result"
    },
    {
     "data": {
      "text/plain": [
       "<Figure size 640x480 with 1 Axes>"
      ],
      "image/png": "[encoded data removed]"
     },
     "metadata": {},
     "output_type": "display_data"
    }
   ],
   "execution_count": 24
  },
  {
   "metadata": {
    "ExecuteTime": {
     "end_time": "2025-01-16T10:26:31.288434Z",
     "start_time": "2025-01-16T10:26:31.285963Z"
    }
   },
   "cell_type": "code",
   "source": "",
   "id": "68ac3cb81f6fbf50",
   "outputs": [],
   "execution_count": null
  }
 ],
 "metadata": {
  "kernelspec": {
   "display_name": "Python 3",
   "language": "python",
   "name": "python3"
  },
  "language_info": {
   "codemirror_mode": {
    "name": "ipython",
    "version": 2
   },
   "file_extension": ".py",
   "mimetype": "text/x-python",
   "name": "python",
   "nbconvert_exporter": "python",
   "pygments_lexer": "ipython2",
   "version": "2.7.6"
  }
 },
 "nbformat": 4,
 "nbformat_minor": 5
}
