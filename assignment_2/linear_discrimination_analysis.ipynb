{
 "cells": [
  {
   "metadata": {
    "ExecuteTime": {
     "end_time": "2025-01-16T12:41:06.624891Z",
     "start_time": "2025-01-16T12:41:05.657967Z"
    }
   },
   "cell_type": "code",
   "source": [
    "import numpy as np\n",
    "import matplotlib.pyplot as plt"
   ],
   "id": "37538833e51565bc",
   "outputs": [],
   "execution_count": 1
  },
  {
   "cell_type": "code",
   "id": "initial_id",
   "metadata": {
    "collapsed": true,
    "ExecuteTime": {
     "end_time": "2025-01-16T12:48:15.055656Z",
     "start_time": "2025-01-16T12:48:15.050901Z"
    }
   },
   "source": [
    "data = np.array([\n",
    "    [2, 1, 1, 0, -1, -1, -2],\n",
    "    [2, 1, 3, 2, 3, 1, 3],\n",
    "])\n",
    "\n",
    "classification = np.array(['c1', 'c1', 'c1', 'c1', 'c2', 'c2', 'c2'])"
   ],
   "outputs": [],
   "execution_count": 7
  },
  {
   "metadata": {
    "ExecuteTime": {
     "end_time": "2025-01-16T12:48:15.680858Z",
     "start_time": "2025-01-16T12:48:15.674668Z"
    }
   },
   "cell_type": "code",
   "source": "data",
   "id": "ec5444b4c4e89f53",
   "outputs": [
    {
     "data": {
      "text/plain": [
       "array([[ 2,  1,  1,  0, -1, -1, -2],\n",
       "       [ 2,  1,  3,  2,  3,  1,  3]])"
      ]
     },
     "execution_count": 8,
     "metadata": {},
     "output_type": "execute_result"
    }
   ],
   "execution_count": 8
  },
  {
   "metadata": {
    "ExecuteTime": {
     "end_time": "2025-01-16T12:48:15.912184Z",
     "start_time": "2025-01-16T12:48:15.904698Z"
    }
   },
   "cell_type": "code",
   "source": "classification",
   "id": "b2160aa06db8b561",
   "outputs": [
    {
     "data": {
      "text/plain": [
       "array(['c1', 'c1', 'c1', 'c1', 'c2', 'c2', 'c2'], dtype='<U2')"
      ]
     },
     "execution_count": 9,
     "metadata": {},
     "output_type": "execute_result"
    }
   ],
   "execution_count": 9
  },
  {
   "metadata": {
    "ExecuteTime": {
     "end_time": "2025-01-16T12:48:16.470475Z",
     "start_time": "2025-01-16T12:48:16.120695Z"
    }
   },
   "cell_type": "code",
   "source": [
    "# plot the data, labeling c1 as red and c2 as blue. \n",
    "plt.scatter(data[0], data[1], c=['red' if cls == 'c1' else 'blue' for cls in classification])"
   ],
   "id": "f67d408cbea0fe39",
   "outputs": [
    {
     "data": {
      "text/plain": [
       "<matplotlib.collections.PathCollection at 0x1ef5f37ed90>"
      ]
     },
     "execution_count": 10,
     "metadata": {},
     "output_type": "execute_result"
    },
    {
     "data": {
      "text/plain": [
       "<Figure size 640x480 with 1 Axes>"
      ],
      "image/png": "[encoded data removed]"
     },
     "metadata": {},
     "output_type": "display_data"
    }
   ],
   "execution_count": 10
  },
  {
   "metadata": {},
   "cell_type": "markdown",
   "source": "# a) Covariance matrices",
   "id": "13e680bf01574628"
  },
  {
   "metadata": {
    "ExecuteTime": {
     "end_time": "2025-01-16T12:59:18.955854Z",
     "start_time": "2025-01-16T12:59:18.950781Z"
    }
   },
   "cell_type": "code",
   "source": [
    "def calculate_mean(data, classification, class_label):\n",
    "    # Extract the data points belonging to the given class_label\n",
    "    class_data = data[:, classification == class_label]\n",
    "    \n",
    "    # Calculate the mean vector for the class\n",
    "    mean_vector = np.mean(class_data, axis=1, keepdims=True)\n",
    "    \n",
    "    return mean_vector"
   ],
   "id": "9bdf9a871707b2d6",
   "outputs": [],
   "execution_count": 17
  },
  {
   "metadata": {
    "ExecuteTime": {
     "end_time": "2025-01-16T12:59:19.389306Z",
     "start_time": "2025-01-16T12:59:19.384006Z"
    }
   },
   "cell_type": "code",
   "source": [
    "def calculate_covariance(data, classification, class_label, mean_vector):\n",
    "    # Extract the data points belonging to the given class_label\n",
    "    class_data = data[:, classification == class_label]\n",
    "    \n",
    "    # Center the data by subtracting the mean vector\n",
    "    centered_data = class_data - mean_vector\n",
    "    \n",
    "    # Calculate the covariance matrix for the class\n",
    "    covariance_matrix = np.dot(centered_data, centered_data.T) / (class_data.shape[1] - 1)\n",
    "    \n",
    "    return covariance_matrix"
   ],
   "id": "d52458f86055592a",
   "outputs": [],
   "execution_count": 18
  },
  {
   "metadata": {
    "ExecuteTime": {
     "end_time": "2025-01-16T12:59:19.725003Z",
     "start_time": "2025-01-16T12:59:19.715702Z"
    }
   },
   "cell_type": "code",
   "source": [
    "mu_c1 = calculate_mean(data, classification, 'c1')\n",
    "mu_c2 = calculate_mean(data, classification, 'c2')\n",
    "\n",
    "print(\"Mean vector for class c1:\", mu_c1)\n",
    "print(\"Mean vector for class c2:\", mu_c2)"
   ],
   "id": "ae2f677e26c5d574",
   "outputs": [
    {
     "name": "stdout",
     "output_type": "stream",
     "text": [
      "Mean vector for class c1: [[1.]\n",
      " [2.]]\n",
      "Mean vector for class c2: [[-1.33333333]\n",
      " [ 2.33333333]]\n"
     ]
    }
   ],
   "execution_count": 19
  },
  {
   "metadata": {
    "ExecuteTime": {
     "end_time": "2025-01-16T13:01:15.231038Z",
     "start_time": "2025-01-16T13:01:15.223922Z"
    }
   },
   "cell_type": "code",
   "source": [
    "S1 = calculate_covariance(data, classification, 'c1', mu_c1)\n",
    "S2 = calculate_covariance(data, classification, 'c2', mu_c2)\n",
    "\n",
    "print(\"Covariance matrix for class c1:\\n\", S1)\n",
    "print(\"Covariance matrix for class c2:\\n\", S2)"
   ],
   "id": "546e8ac14eeb74f",
   "outputs": [
    {
     "name": "stdout",
     "output_type": "stream",
     "text": [
      "Covariance matrix for class c1:\n",
      " [[0.66666667 0.        ]\n",
      " [0.         0.66666667]]\n",
      "Covariance matrix for class c2:\n",
      " [[ 0.33333333 -0.33333333]\n",
      " [-0.33333333  1.33333333]]\n"
     ]
    }
   ],
   "execution_count": 21
  },
  {
   "metadata": {},
   "cell_type": "markdown",
   "source": "# b) $W^*$",
   "id": "81df2e53e397c2e3"
  },
  {
   "metadata": {
    "ExecuteTime": {
     "end_time": "2025-01-16T13:16:06.072447Z",
     "start_time": "2025-01-16T13:16:06.064955Z"
    }
   },
   "cell_type": "code",
   "source": [
    "S_W = S1 + S2\n",
    "S_W"
   ],
   "id": "38a846528f621761",
   "outputs": [
    {
     "data": {
      "text/plain": [
       "array([[ 1.        , -0.33333333],\n",
       "       [-0.33333333,  2.        ]])"
      ]
     },
     "execution_count": 25,
     "metadata": {},
     "output_type": "execute_result"
    }
   ],
   "execution_count": 25
  },
  {
   "metadata": {
    "ExecuteTime": {
     "end_time": "2025-01-16T13:22:50.377721Z",
     "start_time": "2025-01-16T13:22:50.371323Z"
    }
   },
   "cell_type": "code",
   "source": [
    "w_star = np.linalg.inv(S_W) @ (mu_c1 - mu_c2)\n",
    "w_star"
   ],
   "id": "c1000d74b5a2cbef",
   "outputs": [
    {
     "data": {
      "text/plain": [
       "array([[2.41176471],\n",
       "       [0.23529412]])"
      ]
     },
     "execution_count": 44,
     "metadata": {},
     "output_type": "execute_result"
    }
   ],
   "execution_count": 44
  },
  {
   "metadata": {
    "ExecuteTime": {
     "end_time": "2025-01-16T13:25:43.227987Z",
     "start_time": "2025-01-16T13:25:43.079602Z"
    }
   },
   "cell_type": "code",
   "source": [
    "# Plot the data points\n",
    "plt.scatter(data[0], data[1], c=['red' if cls == 'c1' else 'blue' for cls in classification])\n",
    "\n",
    "# Calculate the slope of the line\n",
    "slope = w_star[1][0] / w_star[0][0]\n",
    "\n",
    "# Define the x range for the line\n",
    "x_vals = np.array(plt.gca().get_xlim())\n",
    "\n",
    "# Calculate the corresponding y values\n",
    "y_vals = slope * x_vals\n",
    "\n",
    "# Draw the line\n",
    "plt.plot(x_vals, y_vals, color='black')\n",
    "\n",
    "# Show the plot\n",
    "plt.xlabel('x1')\n",
    "plt.ylabel('x2')\n",
    "plt.title('Data points and separation line')\n",
    "plt.grid(True)\n",
    "plt.show()"
   ],
   "id": "7274830886058db9",
   "outputs": [
    {
     "data": {
      "text/plain": [
       "<Figure size 640x480 with 1 Axes>"
      ],
      "image/png": "[encoded data removed]"
     },
     "metadata": {},
     "output_type": "display_data"
    }
   ],
   "execution_count": 46
  }
 ],
 "metadata": {
  "kernelspec": {
   "display_name": "Python 3",
   "language": "python",
   "name": "python3"
  },
  "language_info": {
   "codemirror_mode": {
    "name": "ipython",
    "version": 2
   },
   "file_extension": ".py",
   "mimetype": "text/x-python",
   "name": "python",
   "nbconvert_exporter": "python",
   "pygments_lexer": "ipython2",
   "version": "2.7.6"
  }
 },
 "nbformat": 4,
 "nbformat_minor": 5
}
