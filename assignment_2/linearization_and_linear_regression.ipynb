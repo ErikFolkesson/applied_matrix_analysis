{
 "cells": [
  {
   "cell_type": "code",
   "id": "initial_id",
   "metadata": {
    "collapsed": true,
    "ExecuteTime": {
     "end_time": "2025-01-16T10:59:51.730178Z",
     "start_time": "2025-01-16T10:59:51.182349Z"
    }
   },
   "source": [
    "import numpy as np\n",
    "import matplotlib.pyplot as plt"
   ],
   "outputs": [],
   "execution_count": 1
  },
  {
   "metadata": {
    "ExecuteTime": {
     "end_time": "2025-01-16T11:00:29.898017Z",
     "start_time": "2025-01-16T11:00:29.892711Z"
    }
   },
   "cell_type": "code",
   "source": [
    "# Define the data\n",
    "A = np.array([\n",
    "    [1, (-1)**2],\n",
    "    [1, 2**2],\n",
    "    [1, 4**2],\n",
    "    [1, 6**2],\n",
    "    [1, 8**2]\n",
    "])\n",
    "\n",
    "y = np.array([\n",
    "    np.log(8),\n",
    "    np.log(6),\n",
    "    np.log(5),\n",
    "    np.log(3),\n",
    "    np.log(1)\n",
    "])"
   ],
   "id": "f152c178babc888b",
   "outputs": [],
   "execution_count": 3
  },
  {
   "metadata": {
    "ExecuteTime": {
     "end_time": "2025-01-16T11:01:07.563638Z",
     "start_time": "2025-01-16T11:01:07.558090Z"
    }
   },
   "cell_type": "code",
   "source": [
    "A_transpose = A.T\n",
    "\n",
    "A_transpose_A = np.dot(A_transpose, A)\n",
    "A_transpose_y = np.dot(A_transpose, y)"
   ],
   "id": "2a7283a6fc105d8b",
   "outputs": [],
   "execution_count": 4
  },
  {
   "metadata": {
    "ExecuteTime": {
     "end_time": "2025-01-16T11:01:10.358033Z",
     "start_time": "2025-01-16T11:01:10.347985Z"
    }
   },
   "cell_type": "code",
   "source": "A_transpose_A",
   "id": "76ed48b00c574db1",
   "outputs": [
    {
     "data": {
      "text/plain": [
       "array([[   5,  121],\n",
       "       [ 121, 5665]])"
      ]
     },
     "execution_count": 5,
     "metadata": {},
     "output_type": "execute_result"
    }
   ],
   "execution_count": 5
  },
  {
   "metadata": {
    "ExecuteTime": {
     "end_time": "2025-01-16T11:01:14.461044Z",
     "start_time": "2025-01-16T11:01:14.455409Z"
    }
   },
   "cell_type": "code",
   "source": "A_transpose_y",
   "id": "3eebb085c569f445",
   "outputs": [
    {
     "data": {
      "text/plain": [
       "array([ 6.57925121, 74.54752841])"
      ]
     },
     "execution_count": 6,
     "metadata": {},
     "output_type": "execute_result"
    }
   ],
   "execution_count": 6
  },
  {
   "metadata": {
    "ExecuteTime": {
     "end_time": "2025-01-16T11:05:03.180912Z",
     "start_time": "2025-01-16T11:05:03.175142Z"
    }
   },
   "cell_type": "code",
   "source": [
    "x = np.linalg.solve(A_transpose_A, A_transpose_y)\n",
    "\n",
    "q = x[0]\n",
    "b = x[1]"
   ],
   "id": "a562dc5bf13e6895",
   "outputs": [],
   "execution_count": 9
  },
  {
   "metadata": {
    "ExecuteTime": {
     "end_time": "2025-01-16T11:05:09.848633Z",
     "start_time": "2025-01-16T11:05:09.843352Z"
    }
   },
   "cell_type": "code",
   "source": "q, b",
   "id": "fd427240660edfb",
   "outputs": [
    {
     "data": {
      "text/plain": [
       "(2.0645430560126337, -0.030937719570686504)"
      ]
     },
     "execution_count": 10,
     "metadata": {},
     "output_type": "execute_result"
    }
   ],
   "execution_count": 10
  },
  {
   "metadata": {
    "ExecuteTime": {
     "end_time": "2025-01-16T11:05:34.209640Z",
     "start_time": "2025-01-16T11:05:34.201916Z"
    }
   },
   "cell_type": "code",
   "source": [
    "# Calculate predicted y values\n",
    "y_pred = A @ x\n",
    "\n",
    "# Calculate residual error\n",
    "residual_error = y - y_pred\n",
    "\n",
    "# Calculate the estimation error (L2-norm)\n",
    "estimation_error = np.linalg.norm(residual_error)"
   ],
   "id": "7c2baf4910a88f62",
   "outputs": [],
   "execution_count": 11
  },
  {
   "metadata": {
    "ExecuteTime": {
     "end_time": "2025-01-16T11:05:47.969680Z",
     "start_time": "2025-01-16T11:05:47.965270Z"
    }
   },
   "cell_type": "code",
   "source": [
    "# Print the results\n",
    "print(\"The estimated values of r are:\")\n",
    "print(\"q =\", q)\n",
    "print(\"b =\", b)\n",
    "print(\"Estimation error:\", estimation_error)"
   ],
   "id": "15aae2120ced33b3",
   "outputs": [
    {
     "name": "stdout",
     "output_type": "stream",
     "text": [
      "The estimated values of r are:\n",
      "q = 2.0645430560126337\n",
      "b = -0.030937719570686504\n",
      "Estimation error: 0.2343109061280376\n"
     ]
    }
   ],
   "execution_count": 12
  },
  {
   "metadata": {
    "ExecuteTime": {
     "end_time": "2025-01-16T11:08:43.167436Z",
     "start_time": "2025-01-16T11:08:43.161874Z"
    }
   },
   "cell_type": "code",
   "source": [
    "a = np.exp(q)\n",
    "a"
   ],
   "id": "fc1218d804bcb8ae",
   "outputs": [
    {
     "data": {
      "text/plain": [
       "7.881695581283058"
      ]
     },
     "execution_count": 13,
     "metadata": {},
     "output_type": "execute_result"
    }
   ],
   "execution_count": 13
  },
  {
   "metadata": {
    "ExecuteTime": {
     "end_time": "2025-01-16T11:12:27.464022Z",
     "start_time": "2025-01-16T11:12:27.458926Z"
    }
   },
   "cell_type": "code",
   "source": [
    "# define the original data\n",
    "x_data = np.array([-1, 2, 4, 6, 8])\n",
    "y_data = np.array([8, 6, 5, 3, 1])"
   ],
   "id": "1a8f54aa44bc4ec6",
   "outputs": [],
   "execution_count": 14
  },
  {
   "metadata": {
    "ExecuteTime": {
     "end_time": "2025-01-16T11:13:48.488645Z",
     "start_time": "2025-01-16T11:13:48.484466Z"
    }
   },
   "cell_type": "code",
   "source": [
    "# define the function\n",
    "def f(x):\n",
    "    return a * np.exp(b * x**2)"
   ],
   "id": "402a8e73042d630",
   "outputs": [],
   "execution_count": 23
  },
  {
   "metadata": {
    "ExecuteTime": {
     "end_time": "2025-01-16T11:13:48.770801Z",
     "start_time": "2025-01-16T11:13:48.763790Z"
    }
   },
   "cell_type": "code",
   "source": [
    "# Generate x-values\n",
    "x = np.linspace(-2, 10, 100)"
   ],
   "id": "103d53af963ec58",
   "outputs": [],
   "execution_count": 24
  },
  {
   "metadata": {
    "ExecuteTime": {
     "end_time": "2025-01-16T11:13:49.034220Z",
     "start_time": "2025-01-16T11:13:49.029815Z"
    }
   },
   "cell_type": "code",
   "source": "estimated_line = f(x)",
   "id": "1355d1cf03ff8abe",
   "outputs": [],
   "execution_count": 25
  },
  {
   "metadata": {
    "ExecuteTime": {
     "end_time": "2025-01-16T11:14:20.813571Z",
     "start_time": "2025-01-16T11:14:20.595752Z"
    }
   },
   "cell_type": "code",
   "source": [
    "plt.plot(x, estimated_line, label='Estimated line')\n",
    "\n",
    "# Plot the original data\n",
    "plt.scatter(x_data, y_data, label='Original data')\n",
    "plt.legend()"
   ],
   "id": "af10f0ef28f94c93",
   "outputs": [
    {
     "data": {
      "text/plain": [
       "<matplotlib.legend.Legend at 0x1b33b051d10>"
      ]
     },
     "execution_count": 27,
     "metadata": {},
     "output_type": "execute_result"
    },
    {
     "data": {
      "text/plain": [
       "<Figure size 640x480 with 1 Axes>"
      ],
      "image/png": "[encoded data removed]"
     },
     "metadata": {},
     "output_type": "display_data"
    }
   ],
   "execution_count": 27
  },
  {
   "metadata": {},
   "cell_type": "code",
   "outputs": [],
   "execution_count": null,
   "source": "",
   "id": "8a16a645edaf037a"
  }
 ],
 "metadata": {
  "kernelspec": {
   "display_name": "Python 3",
   "language": "python",
   "name": "python3"
  },
  "language_info": {
   "codemirror_mode": {
    "name": "ipython",
    "version": 2
   },
   "file_extension": ".py",
   "mimetype": "text/x-python",
   "name": "python",
   "nbconvert_exporter": "python",
   "pygments_lexer": "ipython2",
   "version": "2.7.6"
  }
 },
 "nbformat": 4,
 "nbformat_minor": 5
}
